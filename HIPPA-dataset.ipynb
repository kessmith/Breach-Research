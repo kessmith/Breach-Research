{
 "metadata": {
  "language_info": {
   "codemirror_mode": {
    "name": "ipython",
    "version": 3
   },
   "file_extension": ".py",
   "mimetype": "text/x-python",
   "name": "python",
   "nbconvert_exporter": "python",
   "pygments_lexer": "ipython3",
   "version": "3.9.5"
  },
  "orig_nbformat": 4,
  "kernelspec": {
   "name": "python3",
   "display_name": "Python 3.9.5 64-bit"
  },
  "interpreter": {
   "hash": "0022531dfceaa274be99ebea1a4e6ecde7fecf134c1f3f96e27491a3d7db6bc9"
  }
 },
 "nbformat": 4,
 "nbformat_minor": 2,
 "cells": [
  {
   "cell_type": "code",
   "execution_count": 2,
   "metadata": {},
   "outputs": [
    {
     "output_type": "execute_result",
     "data": {
      "text/plain": [
       "                              Name of Covered Entity State  \\\n",
       "0                         Brooke Army Medical Center    TX   \n",
       "1          Mid America Kidney Stone Association, LLC    MO   \n",
       "2    Alaska Department of Health and Social Services    AK   \n",
       "3  Health Services for Children with Special Need...    DC   \n",
       "4                                  Mark D. Lurie, MD    CA   \n",
       "\n",
       "   Covered Entity Type  Individuals Affected Type of Breach  \\\n",
       "0  Healthcare Provider                1000.0          Theft   \n",
       "1  Healthcare Provider                1000.0          Theft   \n",
       "2  Healthcare Provider                 501.0          Theft   \n",
       "3          Health Plan                3800.0           Loss   \n",
       "4  Healthcare Provider                5166.0          Theft   \n",
       "\n",
       "          Location of Breached Information Business Associate Present  \n",
       "0                              Paper/Films                         No  \n",
       "1                           Network Server                         No  \n",
       "2  Other, Other Portable Electronic Device                         No  \n",
       "3                                   Laptop                         No  \n",
       "4                         Desktop Computer                         No  "
      ],
      "text/html": "<div>\n<style scoped>\n    .dataframe tbody tr th:only-of-type {\n        vertical-align: middle;\n    }\n\n    .dataframe tbody tr th {\n        vertical-align: top;\n    }\n\n    .dataframe thead th {\n        text-align: right;\n    }\n</style>\n<table border=\"1\" class=\"dataframe\">\n  <thead>\n    <tr style=\"text-align: right;\">\n      <th></th>\n      <th>Name of Covered Entity</th>\n      <th>State</th>\n      <th>Covered Entity Type</th>\n      <th>Individuals Affected</th>\n      <th>Type of Breach</th>\n      <th>Location of Breached Information</th>\n      <th>Business Associate Present</th>\n    </tr>\n  </thead>\n  <tbody>\n    <tr>\n      <th>0</th>\n      <td>Brooke Army Medical Center</td>\n      <td>TX</td>\n      <td>Healthcare Provider</td>\n      <td>1000.0</td>\n      <td>Theft</td>\n      <td>Paper/Films</td>\n      <td>No</td>\n    </tr>\n    <tr>\n      <th>1</th>\n      <td>Mid America Kidney Stone Association, LLC</td>\n      <td>MO</td>\n      <td>Healthcare Provider</td>\n      <td>1000.0</td>\n      <td>Theft</td>\n      <td>Network Server</td>\n      <td>No</td>\n    </tr>\n    <tr>\n      <th>2</th>\n      <td>Alaska Department of Health and Social Services</td>\n      <td>AK</td>\n      <td>Healthcare Provider</td>\n      <td>501.0</td>\n      <td>Theft</td>\n      <td>Other, Other Portable Electronic Device</td>\n      <td>No</td>\n    </tr>\n    <tr>\n      <th>3</th>\n      <td>Health Services for Children with Special Need...</td>\n      <td>DC</td>\n      <td>Health Plan</td>\n      <td>3800.0</td>\n      <td>Loss</td>\n      <td>Laptop</td>\n      <td>No</td>\n    </tr>\n    <tr>\n      <th>4</th>\n      <td>Mark D. Lurie, MD</td>\n      <td>CA</td>\n      <td>Healthcare Provider</td>\n      <td>5166.0</td>\n      <td>Theft</td>\n      <td>Desktop Computer</td>\n      <td>No</td>\n    </tr>\n  </tbody>\n</table>\n</div>"
     },
     "metadata": {},
     "execution_count": 2
    }
   ],
   "source": [
    "import pandas as pd\n",
    "import numpy as np\n",
    "\n",
    "df = pd.read_csv(\"Datasets/HIPPA-Dataset.csv\")\n",
    "df.head()"
   ]
  },
  {
   "cell_type": "code",
   "execution_count": 3,
   "metadata": {},
   "outputs": [
    {
     "output_type": "stream",
     "name": "stderr",
     "text": [
      "<ipython-input-3-d5c81f86e784>:7: SettingWithCopyWarning: \nA value is trying to be set on a copy of a slice from a DataFrame\n\nSee the caveats in the documentation: https://pandas.pydata.org/pandas-docs/stable/user_guide/indexing.html#returning-a-view-versus-a-copy\n  CoveredEntityColumn[i] = counter\n"
     ]
    },
    {
     "output_type": "execute_result",
     "data": {
      "text/plain": [
       "  Name of Covered Entity State  Covered Entity Type  Individuals Affected  \\\n",
       "0                      0    TX  Healthcare Provider                1000.0   \n",
       "1                      1    MO  Healthcare Provider                1000.0   \n",
       "2                      2    AK  Healthcare Provider                 501.0   \n",
       "3                      3    DC          Health Plan                3800.0   \n",
       "4                      4    CA  Healthcare Provider                5166.0   \n",
       "5                      5    CA  Healthcare Provider                5257.0   \n",
       "6                      6    CA  Healthcare Provider                 857.0   \n",
       "7                      7    CA  Healthcare Provider                6145.0   \n",
       "8                      8    CA  Healthcare Provider                 952.0   \n",
       "9                      9    CA  Healthcare Provider                5900.0   \n",
       "\n",
       "  Type of Breach         Location of Breached Information  \\\n",
       "0          Theft                              Paper/Films   \n",
       "1          Theft                           Network Server   \n",
       "2          Theft  Other, Other Portable Electronic Device   \n",
       "3           Loss                                   Laptop   \n",
       "4          Theft                         Desktop Computer   \n",
       "5          Theft                         Desktop Computer   \n",
       "6          Theft                         Desktop Computer   \n",
       "7          Theft                         Desktop Computer   \n",
       "8          Theft                         Desktop Computer   \n",
       "9          Theft                                   Laptop   \n",
       "\n",
       "  Business Associate Present  \n",
       "0                         No  \n",
       "1                         No  \n",
       "2                         No  \n",
       "3                         No  \n",
       "4                         No  \n",
       "5                         No  \n",
       "6                         No  \n",
       "7                         No  \n",
       "8                         No  \n",
       "9                         No  "
      ],
      "text/html": "<div>\n<style scoped>\n    .dataframe tbody tr th:only-of-type {\n        vertical-align: middle;\n    }\n\n    .dataframe tbody tr th {\n        vertical-align: top;\n    }\n\n    .dataframe thead th {\n        text-align: right;\n    }\n</style>\n<table border=\"1\" class=\"dataframe\">\n  <thead>\n    <tr style=\"text-align: right;\">\n      <th></th>\n      <th>Name of Covered Entity</th>\n      <th>State</th>\n      <th>Covered Entity Type</th>\n      <th>Individuals Affected</th>\n      <th>Type of Breach</th>\n      <th>Location of Breached Information</th>\n      <th>Business Associate Present</th>\n    </tr>\n  </thead>\n  <tbody>\n    <tr>\n      <th>0</th>\n      <td>0</td>\n      <td>TX</td>\n      <td>Healthcare Provider</td>\n      <td>1000.0</td>\n      <td>Theft</td>\n      <td>Paper/Films</td>\n      <td>No</td>\n    </tr>\n    <tr>\n      <th>1</th>\n      <td>1</td>\n      <td>MO</td>\n      <td>Healthcare Provider</td>\n      <td>1000.0</td>\n      <td>Theft</td>\n      <td>Network Server</td>\n      <td>No</td>\n    </tr>\n    <tr>\n      <th>2</th>\n      <td>2</td>\n      <td>AK</td>\n      <td>Healthcare Provider</td>\n      <td>501.0</td>\n      <td>Theft</td>\n      <td>Other, Other Portable Electronic Device</td>\n      <td>No</td>\n    </tr>\n    <tr>\n      <th>3</th>\n      <td>3</td>\n      <td>DC</td>\n      <td>Health Plan</td>\n      <td>3800.0</td>\n      <td>Loss</td>\n      <td>Laptop</td>\n      <td>No</td>\n    </tr>\n    <tr>\n      <th>4</th>\n      <td>4</td>\n      <td>CA</td>\n      <td>Healthcare Provider</td>\n      <td>5166.0</td>\n      <td>Theft</td>\n      <td>Desktop Computer</td>\n      <td>No</td>\n    </tr>\n    <tr>\n      <th>5</th>\n      <td>5</td>\n      <td>CA</td>\n      <td>Healthcare Provider</td>\n      <td>5257.0</td>\n      <td>Theft</td>\n      <td>Desktop Computer</td>\n      <td>No</td>\n    </tr>\n    <tr>\n      <th>6</th>\n      <td>6</td>\n      <td>CA</td>\n      <td>Healthcare Provider</td>\n      <td>857.0</td>\n      <td>Theft</td>\n      <td>Desktop Computer</td>\n      <td>No</td>\n    </tr>\n    <tr>\n      <th>7</th>\n      <td>7</td>\n      <td>CA</td>\n      <td>Healthcare Provider</td>\n      <td>6145.0</td>\n      <td>Theft</td>\n      <td>Desktop Computer</td>\n      <td>No</td>\n    </tr>\n    <tr>\n      <th>8</th>\n      <td>8</td>\n      <td>CA</td>\n      <td>Healthcare Provider</td>\n      <td>952.0</td>\n      <td>Theft</td>\n      <td>Desktop Computer</td>\n      <td>No</td>\n    </tr>\n    <tr>\n      <th>9</th>\n      <td>9</td>\n      <td>CA</td>\n      <td>Healthcare Provider</td>\n      <td>5900.0</td>\n      <td>Theft</td>\n      <td>Laptop</td>\n      <td>No</td>\n    </tr>\n  </tbody>\n</table>\n</div>"
     },
     "metadata": {},
     "execution_count": 3
    }
   ],
   "source": [
    "# This cell will focus on the 'Name of Covered Entity' Column\n",
    "# df.head(10)\n",
    "CoveredEntityColumn = df.loc[:, 'Name of Covered Entity']\n",
    "# print(str(CoveredEntityColumn.values))\n",
    "counter = 0\n",
    "for i in range(0, len(CoveredEntityColumn.values)):\n",
    "    CoveredEntityColumn[i] = counter\n",
    "    counter += 1\n",
    "df.head(10)"
   ]
  },
  {
   "cell_type": "code",
   "execution_count": 4,
   "metadata": {},
   "outputs": [
    {
     "output_type": "execute_result",
     "data": {
      "text/plain": [
       "  Name of Covered Entity  State  Covered Entity Type  Individuals Affected  \\\n",
       "0                      0    0.0  Healthcare Provider                1000.0   \n",
       "1                      1    1.0  Healthcare Provider                1000.0   \n",
       "2                      2    2.0  Healthcare Provider                 501.0   \n",
       "3                      3    3.0          Health Plan                3800.0   \n",
       "4                      4    4.0  Healthcare Provider                5166.0   \n",
       "5                      5    4.0  Healthcare Provider                5257.0   \n",
       "6                      6    4.0  Healthcare Provider                 857.0   \n",
       "7                      7    4.0  Healthcare Provider                6145.0   \n",
       "8                      8    4.0  Healthcare Provider                 952.0   \n",
       "9                      9    4.0  Healthcare Provider                5900.0   \n",
       "\n",
       "  Type of Breach         Location of Breached Information  \\\n",
       "0          Theft                              Paper/Films   \n",
       "1          Theft                           Network Server   \n",
       "2          Theft  Other, Other Portable Electronic Device   \n",
       "3           Loss                                   Laptop   \n",
       "4          Theft                         Desktop Computer   \n",
       "5          Theft                         Desktop Computer   \n",
       "6          Theft                         Desktop Computer   \n",
       "7          Theft                         Desktop Computer   \n",
       "8          Theft                         Desktop Computer   \n",
       "9          Theft                                   Laptop   \n",
       "\n",
       "  Business Associate Present  \n",
       "0                         No  \n",
       "1                         No  \n",
       "2                         No  \n",
       "3                         No  \n",
       "4                         No  \n",
       "5                         No  \n",
       "6                         No  \n",
       "7                         No  \n",
       "8                         No  \n",
       "9                         No  "
      ],
      "text/html": "<div>\n<style scoped>\n    .dataframe tbody tr th:only-of-type {\n        vertical-align: middle;\n    }\n\n    .dataframe tbody tr th {\n        vertical-align: top;\n    }\n\n    .dataframe thead th {\n        text-align: right;\n    }\n</style>\n<table border=\"1\" class=\"dataframe\">\n  <thead>\n    <tr style=\"text-align: right;\">\n      <th></th>\n      <th>Name of Covered Entity</th>\n      <th>State</th>\n      <th>Covered Entity Type</th>\n      <th>Individuals Affected</th>\n      <th>Type of Breach</th>\n      <th>Location of Breached Information</th>\n      <th>Business Associate Present</th>\n    </tr>\n  </thead>\n  <tbody>\n    <tr>\n      <th>0</th>\n      <td>0</td>\n      <td>0.0</td>\n      <td>Healthcare Provider</td>\n      <td>1000.0</td>\n      <td>Theft</td>\n      <td>Paper/Films</td>\n      <td>No</td>\n    </tr>\n    <tr>\n      <th>1</th>\n      <td>1</td>\n      <td>1.0</td>\n      <td>Healthcare Provider</td>\n      <td>1000.0</td>\n      <td>Theft</td>\n      <td>Network Server</td>\n      <td>No</td>\n    </tr>\n    <tr>\n      <th>2</th>\n      <td>2</td>\n      <td>2.0</td>\n      <td>Healthcare Provider</td>\n      <td>501.0</td>\n      <td>Theft</td>\n      <td>Other, Other Portable Electronic Device</td>\n      <td>No</td>\n    </tr>\n    <tr>\n      <th>3</th>\n      <td>3</td>\n      <td>3.0</td>\n      <td>Health Plan</td>\n      <td>3800.0</td>\n      <td>Loss</td>\n      <td>Laptop</td>\n      <td>No</td>\n    </tr>\n    <tr>\n      <th>4</th>\n      <td>4</td>\n      <td>4.0</td>\n      <td>Healthcare Provider</td>\n      <td>5166.0</td>\n      <td>Theft</td>\n      <td>Desktop Computer</td>\n      <td>No</td>\n    </tr>\n    <tr>\n      <th>5</th>\n      <td>5</td>\n      <td>4.0</td>\n      <td>Healthcare Provider</td>\n      <td>5257.0</td>\n      <td>Theft</td>\n      <td>Desktop Computer</td>\n      <td>No</td>\n    </tr>\n    <tr>\n      <th>6</th>\n      <td>6</td>\n      <td>4.0</td>\n      <td>Healthcare Provider</td>\n      <td>857.0</td>\n      <td>Theft</td>\n      <td>Desktop Computer</td>\n      <td>No</td>\n    </tr>\n    <tr>\n      <th>7</th>\n      <td>7</td>\n      <td>4.0</td>\n      <td>Healthcare Provider</td>\n      <td>6145.0</td>\n      <td>Theft</td>\n      <td>Desktop Computer</td>\n      <td>No</td>\n    </tr>\n    <tr>\n      <th>8</th>\n      <td>8</td>\n      <td>4.0</td>\n      <td>Healthcare Provider</td>\n      <td>952.0</td>\n      <td>Theft</td>\n      <td>Desktop Computer</td>\n      <td>No</td>\n    </tr>\n    <tr>\n      <th>9</th>\n      <td>9</td>\n      <td>4.0</td>\n      <td>Healthcare Provider</td>\n      <td>5900.0</td>\n      <td>Theft</td>\n      <td>Laptop</td>\n      <td>No</td>\n    </tr>\n  </tbody>\n</table>\n</div>"
     },
     "metadata": {},
     "execution_count": 4
    }
   ],
   "source": [
    "# This cell will focus on the 'State' Column\n",
    "# df.State.unique()\n",
    "df.State = df.State.replace({\n",
    "    'TX': 0, \n",
    "    'MO': 1, \n",
    "    'AK': 2, \n",
    "    'DC': 3, \n",
    "    'CA': 4, \n",
    "    'PA': 5, \n",
    "    'TN': 6, \n",
    "    'VA': 7, \n",
    "    'NC': 8, \n",
    "    'MI': 9, \n",
    "    'MA': 10,\n",
    "    'MD': 11, \n",
    "    'ID': 12, \n",
    "    'IL': 13, \n",
    "    'UT': 14, \n",
    "    'AZ': 15, \n",
    "    'RI': 16, \n",
    "    'PR': 17, \n",
    "    'FL': 18, \n",
    "    'NM': 19, \n",
    "    'NY': 20, \n",
    "    'WY': 21,\n",
    "    'WI': 22, \n",
    "    'WA': 23, \n",
    "    'CT': 24, \n",
    "    'AL': 25, \n",
    "    'GA': 26, \n",
    "    'SC': 27, \n",
    "    'KY': 28, \n",
    "    'MN': 29, \n",
    "    'CO': 30, \n",
    "    'NE': 31, \n",
    "    'KS': 32,\n",
    "    'OH': 33, \n",
    "    'NV': 34, \n",
    "    'IN': 35, \n",
    "    'OR': 36, \n",
    "    'IA': 37, \n",
    "    'OK': 38, \n",
    "    'AR': 39, \n",
    "    'MS': 40, \n",
    "    'NH': 41, \n",
    "    'MT': 42,\n",
    "    'NJ': 43, \n",
    "    'WV': 44, \n",
    "    'LA': 45, \n",
    "    'ND': 46, \n",
    "    'HI': 47, \n",
    "    'SD': 48, \n",
    "    'ME': 49, \n",
    "    'VT': 50, \n",
    "    'DE': 51\n",
    "})\n",
    "df.head(10)\n",
    "\n",
    "# Double back in this cell to figure out how to handle the nan columns"
   ]
  },
  {
   "cell_type": "code",
   "execution_count": 5,
   "metadata": {},
   "outputs": [
    {
     "output_type": "execute_result",
     "data": {
      "text/plain": [
       "  Name of Covered Entity  State  Covered Entity Type  Individuals Affected  \\\n",
       "0                      0    0.0                  0.0                1000.0   \n",
       "1                      1    1.0                  0.0                1000.0   \n",
       "2                      2    2.0                  0.0                 501.0   \n",
       "3                      3    3.0                  1.0                3800.0   \n",
       "4                      4    4.0                  0.0                5166.0   \n",
       "5                      5    4.0                  0.0                5257.0   \n",
       "6                      6    4.0                  0.0                 857.0   \n",
       "7                      7    4.0                  0.0                6145.0   \n",
       "8                      8    4.0                  0.0                 952.0   \n",
       "9                      9    4.0                  0.0                5900.0   \n",
       "\n",
       "  Type of Breach         Location of Breached Information  \\\n",
       "0          Theft                              Paper/Films   \n",
       "1          Theft                           Network Server   \n",
       "2          Theft  Other, Other Portable Electronic Device   \n",
       "3           Loss                                   Laptop   \n",
       "4          Theft                         Desktop Computer   \n",
       "5          Theft                         Desktop Computer   \n",
       "6          Theft                         Desktop Computer   \n",
       "7          Theft                         Desktop Computer   \n",
       "8          Theft                         Desktop Computer   \n",
       "9          Theft                                   Laptop   \n",
       "\n",
       "  Business Associate Present  \n",
       "0                         No  \n",
       "1                         No  \n",
       "2                         No  \n",
       "3                         No  \n",
       "4                         No  \n",
       "5                         No  \n",
       "6                         No  \n",
       "7                         No  \n",
       "8                         No  \n",
       "9                         No  "
      ],
      "text/html": "<div>\n<style scoped>\n    .dataframe tbody tr th:only-of-type {\n        vertical-align: middle;\n    }\n\n    .dataframe tbody tr th {\n        vertical-align: top;\n    }\n\n    .dataframe thead th {\n        text-align: right;\n    }\n</style>\n<table border=\"1\" class=\"dataframe\">\n  <thead>\n    <tr style=\"text-align: right;\">\n      <th></th>\n      <th>Name of Covered Entity</th>\n      <th>State</th>\n      <th>Covered Entity Type</th>\n      <th>Individuals Affected</th>\n      <th>Type of Breach</th>\n      <th>Location of Breached Information</th>\n      <th>Business Associate Present</th>\n    </tr>\n  </thead>\n  <tbody>\n    <tr>\n      <th>0</th>\n      <td>0</td>\n      <td>0.0</td>\n      <td>0.0</td>\n      <td>1000.0</td>\n      <td>Theft</td>\n      <td>Paper/Films</td>\n      <td>No</td>\n    </tr>\n    <tr>\n      <th>1</th>\n      <td>1</td>\n      <td>1.0</td>\n      <td>0.0</td>\n      <td>1000.0</td>\n      <td>Theft</td>\n      <td>Network Server</td>\n      <td>No</td>\n    </tr>\n    <tr>\n      <th>2</th>\n      <td>2</td>\n      <td>2.0</td>\n      <td>0.0</td>\n      <td>501.0</td>\n      <td>Theft</td>\n      <td>Other, Other Portable Electronic Device</td>\n      <td>No</td>\n    </tr>\n    <tr>\n      <th>3</th>\n      <td>3</td>\n      <td>3.0</td>\n      <td>1.0</td>\n      <td>3800.0</td>\n      <td>Loss</td>\n      <td>Laptop</td>\n      <td>No</td>\n    </tr>\n    <tr>\n      <th>4</th>\n      <td>4</td>\n      <td>4.0</td>\n      <td>0.0</td>\n      <td>5166.0</td>\n      <td>Theft</td>\n      <td>Desktop Computer</td>\n      <td>No</td>\n    </tr>\n    <tr>\n      <th>5</th>\n      <td>5</td>\n      <td>4.0</td>\n      <td>0.0</td>\n      <td>5257.0</td>\n      <td>Theft</td>\n      <td>Desktop Computer</td>\n      <td>No</td>\n    </tr>\n    <tr>\n      <th>6</th>\n      <td>6</td>\n      <td>4.0</td>\n      <td>0.0</td>\n      <td>857.0</td>\n      <td>Theft</td>\n      <td>Desktop Computer</td>\n      <td>No</td>\n    </tr>\n    <tr>\n      <th>7</th>\n      <td>7</td>\n      <td>4.0</td>\n      <td>0.0</td>\n      <td>6145.0</td>\n      <td>Theft</td>\n      <td>Desktop Computer</td>\n      <td>No</td>\n    </tr>\n    <tr>\n      <th>8</th>\n      <td>8</td>\n      <td>4.0</td>\n      <td>0.0</td>\n      <td>952.0</td>\n      <td>Theft</td>\n      <td>Desktop Computer</td>\n      <td>No</td>\n    </tr>\n    <tr>\n      <th>9</th>\n      <td>9</td>\n      <td>4.0</td>\n      <td>0.0</td>\n      <td>5900.0</td>\n      <td>Theft</td>\n      <td>Laptop</td>\n      <td>No</td>\n    </tr>\n  </tbody>\n</table>\n</div>"
     },
     "metadata": {},
     "execution_count": 5
    }
   ],
   "source": [
    "# df['Covered Entity Type'].unique()\n",
    "df['Covered Entity Type'] = df['Covered Entity Type'].replace({\n",
    "    'Healthcare Provider': 0,\n",
    "    'Health Plan': 1, \n",
    "    'Business Associate': 2,\n",
    "    'Healthcare Clearing House': 3\n",
    "})\n",
    "df.head(10)\n",
    "\n",
    "# Double back with this cell to investigate the name cells as that is going to play a key role in getting an accurate reading"
   ]
  },
  {
   "cell_type": "code",
   "execution_count": 6,
   "metadata": {},
   "outputs": [
    {
     "output_type": "execute_result",
     "data": {
      "text/plain": [
       "  Name of Covered Entity  State  Covered Entity Type  Individuals Affected  \\\n",
       "0                      0    0.0                  0.0                1000.0   \n",
       "1                      1    1.0                  0.0                1000.0   \n",
       "2                      2    2.0                  0.0                 501.0   \n",
       "3                      3    3.0                  1.0                3800.0   \n",
       "4                      4    4.0                  0.0                5166.0   \n",
       "5                      5    4.0                  0.0                5257.0   \n",
       "6                      6    4.0                  0.0                 857.0   \n",
       "7                      7    4.0                  0.0                6145.0   \n",
       "8                      8    4.0                  0.0                 952.0   \n",
       "9                      9    4.0                  0.0                5900.0   \n",
       "\n",
       "   Type of Breach         Location of Breached Information  \\\n",
       "0             0.0                              Paper/Films   \n",
       "1             0.0                           Network Server   \n",
       "2             0.0  Other, Other Portable Electronic Device   \n",
       "3             1.0                                   Laptop   \n",
       "4             0.0                         Desktop Computer   \n",
       "5             0.0                         Desktop Computer   \n",
       "6             0.0                         Desktop Computer   \n",
       "7             0.0                         Desktop Computer   \n",
       "8             0.0                         Desktop Computer   \n",
       "9             0.0                                   Laptop   \n",
       "\n",
       "  Business Associate Present  \n",
       "0                         No  \n",
       "1                         No  \n",
       "2                         No  \n",
       "3                         No  \n",
       "4                         No  \n",
       "5                         No  \n",
       "6                         No  \n",
       "7                         No  \n",
       "8                         No  \n",
       "9                         No  "
      ],
      "text/html": "<div>\n<style scoped>\n    .dataframe tbody tr th:only-of-type {\n        vertical-align: middle;\n    }\n\n    .dataframe tbody tr th {\n        vertical-align: top;\n    }\n\n    .dataframe thead th {\n        text-align: right;\n    }\n</style>\n<table border=\"1\" class=\"dataframe\">\n  <thead>\n    <tr style=\"text-align: right;\">\n      <th></th>\n      <th>Name of Covered Entity</th>\n      <th>State</th>\n      <th>Covered Entity Type</th>\n      <th>Individuals Affected</th>\n      <th>Type of Breach</th>\n      <th>Location of Breached Information</th>\n      <th>Business Associate Present</th>\n    </tr>\n  </thead>\n  <tbody>\n    <tr>\n      <th>0</th>\n      <td>0</td>\n      <td>0.0</td>\n      <td>0.0</td>\n      <td>1000.0</td>\n      <td>0.0</td>\n      <td>Paper/Films</td>\n      <td>No</td>\n    </tr>\n    <tr>\n      <th>1</th>\n      <td>1</td>\n      <td>1.0</td>\n      <td>0.0</td>\n      <td>1000.0</td>\n      <td>0.0</td>\n      <td>Network Server</td>\n      <td>No</td>\n    </tr>\n    <tr>\n      <th>2</th>\n      <td>2</td>\n      <td>2.0</td>\n      <td>0.0</td>\n      <td>501.0</td>\n      <td>0.0</td>\n      <td>Other, Other Portable Electronic Device</td>\n      <td>No</td>\n    </tr>\n    <tr>\n      <th>3</th>\n      <td>3</td>\n      <td>3.0</td>\n      <td>1.0</td>\n      <td>3800.0</td>\n      <td>1.0</td>\n      <td>Laptop</td>\n      <td>No</td>\n    </tr>\n    <tr>\n      <th>4</th>\n      <td>4</td>\n      <td>4.0</td>\n      <td>0.0</td>\n      <td>5166.0</td>\n      <td>0.0</td>\n      <td>Desktop Computer</td>\n      <td>No</td>\n    </tr>\n    <tr>\n      <th>5</th>\n      <td>5</td>\n      <td>4.0</td>\n      <td>0.0</td>\n      <td>5257.0</td>\n      <td>0.0</td>\n      <td>Desktop Computer</td>\n      <td>No</td>\n    </tr>\n    <tr>\n      <th>6</th>\n      <td>6</td>\n      <td>4.0</td>\n      <td>0.0</td>\n      <td>857.0</td>\n      <td>0.0</td>\n      <td>Desktop Computer</td>\n      <td>No</td>\n    </tr>\n    <tr>\n      <th>7</th>\n      <td>7</td>\n      <td>4.0</td>\n      <td>0.0</td>\n      <td>6145.0</td>\n      <td>0.0</td>\n      <td>Desktop Computer</td>\n      <td>No</td>\n    </tr>\n    <tr>\n      <th>8</th>\n      <td>8</td>\n      <td>4.0</td>\n      <td>0.0</td>\n      <td>952.0</td>\n      <td>0.0</td>\n      <td>Desktop Computer</td>\n      <td>No</td>\n    </tr>\n    <tr>\n      <th>9</th>\n      <td>9</td>\n      <td>4.0</td>\n      <td>0.0</td>\n      <td>5900.0</td>\n      <td>0.0</td>\n      <td>Laptop</td>\n      <td>No</td>\n    </tr>\n  </tbody>\n</table>\n</div>"
     },
     "metadata": {},
     "execution_count": 6
    }
   ],
   "source": [
    "# df['Type of Breach'].unique()\n",
    "df['Type of Breach'] = df['Type of Breach'].replace({\n",
    "    'Theft': 0, \n",
    "    'Loss': 1, \n",
    "    'Other': 2, \n",
    "    'Hacking/IT Incident': 3,\n",
    "    'Loss, Theft': 4, \n",
    "    'Improper Disposal': 5, \n",
    "    'Improper Disposal, Loss': 6,\n",
    "    'Other, Theft': 7, \n",
    "    'Loss, Other': 8, \n",
    "    'Unauthorized Access/Disclosure': 9,\n",
    "    'Improper Disposal, Loss, Theft': 10, \n",
    "    'Unknown': 11,\n",
    "    'Theft, Unauthorized Access/Disclosure': 12,\n",
    "    'Hacking/IT Incident, Unauthorized Access/Disclosure': 13,\n",
    "    'Other, Unauthorized Access/Disclosure': 14,\n",
    "    'Hacking/IT Incident, Other': 15, \n",
    "    'Other, Unknown': 16,\n",
    "    'Loss, Unauthorized Access/Disclosure, Unknown': 17,\n",
    "    'Hacking/IT Incident, Other, Unauthorized Access/Disclosure': 18,\n",
    "    'Hacking/IT Incident, Theft, Unauthorized Access/Disclosure': 19,\n",
    "    'Improper Disposal, Theft': 20, \n",
    "    'Hacking/IT Incident, Theft': 21,\n",
    "    'Loss, Other, Theft': 22,\n",
    "    'Other, Theft, Unauthorized Access/Disclosure': 23,\n",
    "    'Improper Disposal, Theft, Unauthorized Access/Disclosure': 24,\n",
    "    'Loss, Unknown': 25, \n",
    "    'Loss, Unauthorized Access/Disclosure': 26,\n",
    "    'Improper Disposal, Unauthorized Access/Disclosure': 27\n",
    "})\n",
    "df.head(10)\n",
    "\n",
    "# Before completing covariance analysis figure out how to handle nan data"
   ]
  },
  {
   "cell_type": "code",
   "execution_count": 7,
   "metadata": {},
   "outputs": [
    {
     "output_type": "execute_result",
     "data": {
      "text/plain": [
       "  Name of Covered Entity  State  Covered Entity Type  Individuals Affected  \\\n",
       "0                      0    0.0                  0.0                1000.0   \n",
       "1                      1    1.0                  0.0                1000.0   \n",
       "2                      2    2.0                  0.0                 501.0   \n",
       "3                      3    3.0                  1.0                3800.0   \n",
       "4                      4    4.0                  0.0                5166.0   \n",
       "5                      5    4.0                  0.0                5257.0   \n",
       "6                      6    4.0                  0.0                 857.0   \n",
       "7                      7    4.0                  0.0                6145.0   \n",
       "8                      8    4.0                  0.0                 952.0   \n",
       "9                      9    4.0                  0.0                5900.0   \n",
       "\n",
       "   Type of Breach  Location of Breached Information Business Associate Present  \n",
       "0             0.0                               0.0                         No  \n",
       "1             0.0                               1.0                         No  \n",
       "2             0.0                               2.0                         No  \n",
       "3             1.0                               3.0                         No  \n",
       "4             0.0                               4.0                         No  \n",
       "5             0.0                               4.0                         No  \n",
       "6             0.0                               4.0                         No  \n",
       "7             0.0                               4.0                         No  \n",
       "8             0.0                               4.0                         No  \n",
       "9             0.0                               3.0                         No  "
      ],
      "text/html": "<div>\n<style scoped>\n    .dataframe tbody tr th:only-of-type {\n        vertical-align: middle;\n    }\n\n    .dataframe tbody tr th {\n        vertical-align: top;\n    }\n\n    .dataframe thead th {\n        text-align: right;\n    }\n</style>\n<table border=\"1\" class=\"dataframe\">\n  <thead>\n    <tr style=\"text-align: right;\">\n      <th></th>\n      <th>Name of Covered Entity</th>\n      <th>State</th>\n      <th>Covered Entity Type</th>\n      <th>Individuals Affected</th>\n      <th>Type of Breach</th>\n      <th>Location of Breached Information</th>\n      <th>Business Associate Present</th>\n    </tr>\n  </thead>\n  <tbody>\n    <tr>\n      <th>0</th>\n      <td>0</td>\n      <td>0.0</td>\n      <td>0.0</td>\n      <td>1000.0</td>\n      <td>0.0</td>\n      <td>0.0</td>\n      <td>No</td>\n    </tr>\n    <tr>\n      <th>1</th>\n      <td>1</td>\n      <td>1.0</td>\n      <td>0.0</td>\n      <td>1000.0</td>\n      <td>0.0</td>\n      <td>1.0</td>\n      <td>No</td>\n    </tr>\n    <tr>\n      <th>2</th>\n      <td>2</td>\n      <td>2.0</td>\n      <td>0.0</td>\n      <td>501.0</td>\n      <td>0.0</td>\n      <td>2.0</td>\n      <td>No</td>\n    </tr>\n    <tr>\n      <th>3</th>\n      <td>3</td>\n      <td>3.0</td>\n      <td>1.0</td>\n      <td>3800.0</td>\n      <td>1.0</td>\n      <td>3.0</td>\n      <td>No</td>\n    </tr>\n    <tr>\n      <th>4</th>\n      <td>4</td>\n      <td>4.0</td>\n      <td>0.0</td>\n      <td>5166.0</td>\n      <td>0.0</td>\n      <td>4.0</td>\n      <td>No</td>\n    </tr>\n    <tr>\n      <th>5</th>\n      <td>5</td>\n      <td>4.0</td>\n      <td>0.0</td>\n      <td>5257.0</td>\n      <td>0.0</td>\n      <td>4.0</td>\n      <td>No</td>\n    </tr>\n    <tr>\n      <th>6</th>\n      <td>6</td>\n      <td>4.0</td>\n      <td>0.0</td>\n      <td>857.0</td>\n      <td>0.0</td>\n      <td>4.0</td>\n      <td>No</td>\n    </tr>\n    <tr>\n      <th>7</th>\n      <td>7</td>\n      <td>4.0</td>\n      <td>0.0</td>\n      <td>6145.0</td>\n      <td>0.0</td>\n      <td>4.0</td>\n      <td>No</td>\n    </tr>\n    <tr>\n      <th>8</th>\n      <td>8</td>\n      <td>4.0</td>\n      <td>0.0</td>\n      <td>952.0</td>\n      <td>0.0</td>\n      <td>4.0</td>\n      <td>No</td>\n    </tr>\n    <tr>\n      <th>9</th>\n      <td>9</td>\n      <td>4.0</td>\n      <td>0.0</td>\n      <td>5900.0</td>\n      <td>0.0</td>\n      <td>3.0</td>\n      <td>No</td>\n    </tr>\n  </tbody>\n</table>\n</div>"
     },
     "metadata": {},
     "execution_count": 7
    }
   ],
   "source": [
    "# This cell will focus the 'Location of Breached Information' column\n",
    "df['Location of Breached Information'].unique()\n",
    "df['Location of Breached Information'] = df['Location of Breached Information'].replace({\n",
    "    'Paper/Films': 0, \n",
    "    'Network Server': 1,\n",
    "    'Other, Other Portable Electronic Device': 2, \n",
    "    'Laptop': 3,\n",
    "    'Desktop Computer': 4, \n",
    "    'Other': 5,\n",
    "    'Desktop Computer, Electronic Medical Record, Network Server': 6,\n",
    "    'Desktop Computer, Laptop': 7, \n",
    "    'Other Portable Electronic Device': 8,\n",
    "    'Email': 9,\n",
    "    'Electronic Medical Record, Other, Other Portable Electronic Device': 10,\n",
    "    'Other, Paper/Films': 11, \n",
    "    'Email, Other Portable Electronic Device': 12,\n",
    "    'Desktop Computer, Email, Laptop, Network Server': 13,\n",
    "    'Desktop Computer, Paper/Films': 14,\n",
    "    'Desktop Computer, Laptop, Other, Other Portable Electronic Device': 15,\n",
    "    'Electronic Medical Record': 16, \n",
    "    'Laptop, Paper/Films': 17,\n",
    "    'Laptop, Network Server': 18, \n",
    "    'Desktop Computer, Network Server': 19,\n",
    "    'Email, Network Server': 20, \n",
    "    'Electronic Medical Record, Other': 21,\n",
    "    'Desktop Computer, Other, Other Portable Electronic Device': 22,\n",
    "    'Desktop Computer, Network Server, Other, Other Portable Electronic Device': 23,\n",
    "    'Desktop Computer, Electronic Medical Record, Email, Laptop, Network Server, Other, Other Portable Electronic Device': 24,\n",
    "    'Laptop, Other Portable Electronic Device, Paper/Films': 25,\n",
    "    'Desktop Computer, Electronic Medical Record, Email, Laptop, Network Server, Other, Other Portable Electronic Device, Paper/Films': 26,\n",
    "    'Desktop Computer, Other': 27, \n",
    "    'Electronic Medical Record, Laptop': 28,\n",
    "    'Electronic Medical Record, Paper/Films': 29,\n",
    "    'Laptop, Other Portable Electronic Device': 30,\n",
    "    'Desktop Computer, Electronic Medical Record': 31,\n",
    "    'Desktop Computer, Other Portable Electronic Device': 32,\n",
    "    'Email, Other': 33, \n",
    "    'Network Server, Paper/Films': 34,\n",
    "    'Network Server, Other': 35,\n",
    "    'Desktop Computer, Electronic Medical Record, Email, Network Server, Paper/Films': 36,\n",
    "    'Desktop Computer, Other, Other Portable Electronic Device, Paper/Films': 37,\n",
    "    'Desktop Computer, Email': 38, \n",
    "    'Email, Laptop, Network Server': 39,\n",
    "    'Email, Laptop, Other Portable Electronic Device': 40,\n",
    "    'Desktop Computer, Laptop, Other Portable Electronic Device': 41,\n",
    "    'Email, Laptop': 42, \n",
    "    'Electronic Medical Record, Network Server': 43,\n",
    "    'Desktop Computer, Network Server, Paper/Films': 44,\n",
    "    'Desktop Computer, Email, Laptop, Network Server, Other, Other Portable Electronic Device': 45,\n",
    "    'Laptop, Other': 46, \n",
    "    'Desktop Computer, Laptop, Network Server': 47,\n",
    "    'Other Portable Electronic Device, Paper/Films': 48,\n",
    "    'Desktop Computer, Electronic Medical Record, Laptop': 49,\n",
    "    'Desktop Computer, Electronic Medical Record, Email, Network Server': 50,\n",
    "    'Desktop Computer, Electronic Medical Record, Email, Laptop, Network Server, Other Portable Electronic Device': 51,\n",
    "    'Email, Network Server, Other Portable Electronic Device': 52,\n",
    "    'Desktop Computer, Laptop, Paper/Films': 53,\n",
    "    'Desktop Computer, Other Portable Electronic Device, Paper/Films': 54,\n",
    "    'Electronic Medical Record, Laptop, Network Server, Other, Other Portable Electronic Device': 55,\n",
    "    'Email, Laptop, Paper/Films': 56,\n",
    "    'Desktop Computer, Laptop, Network Server, Other Portable Electronic Device': 57,\n",
    "    'Desktop Computer, Electronic Medical Record, Email, Laptop, Network Server': 58,\n",
    "    'Desktop Computer, Electronic Medical Record, Other': 59,\n",
    "    'Desktop Computer, Email, Network Server': 60,\n",
    "    'Electronic Medical Record, Email, Laptop, Paper/Films': 61,\n",
    "    'Desktop Computer, Electronic Medical Record, Email, Laptop, Other, Other Portable Electronic Device, Paper/Films': 62\n",
    "})\n",
    "df.head(10)"
   ]
  },
  {
   "cell_type": "code",
   "execution_count": 8,
   "metadata": {},
   "outputs": [
    {
     "output_type": "execute_result",
     "data": {
      "text/plain": [
       "     Name of Covered Entity  State  Covered Entity Type  Individuals Affected  \\\n",
       "1716                   1716   25.0                  0.0                4300.0   \n",
       "1717                   1717   25.0                  0.0                4300.0   \n",
       "1718                   1718    0.0                  1.0                1842.0   \n",
       "1719                   1719   18.0                  0.0                 531.0   \n",
       "1720                   1720   18.0                  1.0                1214.0   \n",
       "\n",
       "      Type of Breach  Location of Breached Information  \\\n",
       "1716             3.0                               1.0   \n",
       "1717             3.0                               1.0   \n",
       "1718             5.0                               0.0   \n",
       "1719             1.0                               8.0   \n",
       "1720             9.0                               0.0   \n",
       "\n",
       "      Business Associate Present  \n",
       "1716                           0  \n",
       "1717                           0  \n",
       "1718                           0  \n",
       "1719                           0  \n",
       "1720                           0  "
      ],
      "text/html": "<div>\n<style scoped>\n    .dataframe tbody tr th:only-of-type {\n        vertical-align: middle;\n    }\n\n    .dataframe tbody tr th {\n        vertical-align: top;\n    }\n\n    .dataframe thead th {\n        text-align: right;\n    }\n</style>\n<table border=\"1\" class=\"dataframe\">\n  <thead>\n    <tr style=\"text-align: right;\">\n      <th></th>\n      <th>Name of Covered Entity</th>\n      <th>State</th>\n      <th>Covered Entity Type</th>\n      <th>Individuals Affected</th>\n      <th>Type of Breach</th>\n      <th>Location of Breached Information</th>\n      <th>Business Associate Present</th>\n    </tr>\n  </thead>\n  <tbody>\n    <tr>\n      <th>1716</th>\n      <td>1716</td>\n      <td>25.0</td>\n      <td>0.0</td>\n      <td>4300.0</td>\n      <td>3.0</td>\n      <td>1.0</td>\n      <td>0</td>\n    </tr>\n    <tr>\n      <th>1717</th>\n      <td>1717</td>\n      <td>25.0</td>\n      <td>0.0</td>\n      <td>4300.0</td>\n      <td>3.0</td>\n      <td>1.0</td>\n      <td>0</td>\n    </tr>\n    <tr>\n      <th>1718</th>\n      <td>1718</td>\n      <td>0.0</td>\n      <td>1.0</td>\n      <td>1842.0</td>\n      <td>5.0</td>\n      <td>0.0</td>\n      <td>0</td>\n    </tr>\n    <tr>\n      <th>1719</th>\n      <td>1719</td>\n      <td>18.0</td>\n      <td>0.0</td>\n      <td>531.0</td>\n      <td>1.0</td>\n      <td>8.0</td>\n      <td>0</td>\n    </tr>\n    <tr>\n      <th>1720</th>\n      <td>1720</td>\n      <td>18.0</td>\n      <td>1.0</td>\n      <td>1214.0</td>\n      <td>9.0</td>\n      <td>0.0</td>\n      <td>0</td>\n    </tr>\n  </tbody>\n</table>\n</div>"
     },
     "metadata": {},
     "execution_count": 8
    }
   ],
   "source": [
    "# This cell will focus on the 'Business Associate Present' column\n",
    "df['Business Associate Present'].unique()\n",
    "df['Business Associate Present'] = df['Business Associate Present'].map({\n",
    "    'No': 0,\n",
    "    'Yes': 1\n",
    "}.get)\n",
    "df.tail()"
   ]
  },
  {
   "cell_type": "code",
   "execution_count": 10,
   "metadata": {},
   "outputs": [
    {
     "output_type": "execute_result",
     "data": {
      "text/plain": [
       "500.0"
      ]
     },
     "metadata": {},
     "execution_count": 10
    }
   ],
   "source": [
    "df['Individuals Affected'].min()"
   ]
  },
  {
   "cell_type": "code",
   "execution_count": 12,
   "metadata": {},
   "outputs": [
    {
     "output_type": "execute_result",
     "data": {
      "text/plain": [
       "78800000.0"
      ]
     },
     "metadata": {},
     "execution_count": 12
    }
   ],
   "source": [
    "df['Individuals Affected'].max()"
   ]
  },
  {
   "cell_type": "code",
   "execution_count": 14,
   "metadata": {},
   "outputs": [
    {
     "output_type": "execute_result",
     "data": {
      "text/plain": [
       "  Name of Covered Entity  State  Covered Entity Type  Individuals Affected  \\\n",
       "0                      0    0.0                  0.0          6.345218e-06   \n",
       "1                      1    1.0                  0.0          6.345218e-06   \n",
       "2                      2    2.0                  0.0          1.269044e-08   \n",
       "3                      3    3.0                  1.0          4.187844e-05   \n",
       "4                      4    4.0                  0.0          5.921357e-05   \n",
       "5                      5    4.0                  0.0          6.036840e-05   \n",
       "6                      6    4.0                  0.0          4.530486e-06   \n",
       "7                      7    4.0                  0.0          7.163751e-05   \n",
       "8                      8    4.0                  0.0          5.736077e-06   \n",
       "9                      9    4.0                  0.0          6.852835e-05   \n",
       "\n",
       "   Type of Breach  Location of Breached Information  \\\n",
       "0             0.0                               0.0   \n",
       "1             0.0                               1.0   \n",
       "2             0.0                               2.0   \n",
       "3             1.0                               3.0   \n",
       "4             0.0                               4.0   \n",
       "5             0.0                               4.0   \n",
       "6             0.0                               4.0   \n",
       "7             0.0                               4.0   \n",
       "8             0.0                               4.0   \n",
       "9             0.0                               3.0   \n",
       "\n",
       "   Business Associate Present  \n",
       "0                           0  \n",
       "1                           0  \n",
       "2                           0  \n",
       "3                           0  \n",
       "4                           0  \n",
       "5                           0  \n",
       "6                           0  \n",
       "7                           0  \n",
       "8                           0  \n",
       "9                           0  "
      ],
      "text/html": "<div>\n<style scoped>\n    .dataframe tbody tr th:only-of-type {\n        vertical-align: middle;\n    }\n\n    .dataframe tbody tr th {\n        vertical-align: top;\n    }\n\n    .dataframe thead th {\n        text-align: right;\n    }\n</style>\n<table border=\"1\" class=\"dataframe\">\n  <thead>\n    <tr style=\"text-align: right;\">\n      <th></th>\n      <th>Name of Covered Entity</th>\n      <th>State</th>\n      <th>Covered Entity Type</th>\n      <th>Individuals Affected</th>\n      <th>Type of Breach</th>\n      <th>Location of Breached Information</th>\n      <th>Business Associate Present</th>\n    </tr>\n  </thead>\n  <tbody>\n    <tr>\n      <th>0</th>\n      <td>0</td>\n      <td>0.0</td>\n      <td>0.0</td>\n      <td>6.345218e-06</td>\n      <td>0.0</td>\n      <td>0.0</td>\n      <td>0</td>\n    </tr>\n    <tr>\n      <th>1</th>\n      <td>1</td>\n      <td>1.0</td>\n      <td>0.0</td>\n      <td>6.345218e-06</td>\n      <td>0.0</td>\n      <td>1.0</td>\n      <td>0</td>\n    </tr>\n    <tr>\n      <th>2</th>\n      <td>2</td>\n      <td>2.0</td>\n      <td>0.0</td>\n      <td>1.269044e-08</td>\n      <td>0.0</td>\n      <td>2.0</td>\n      <td>0</td>\n    </tr>\n    <tr>\n      <th>3</th>\n      <td>3</td>\n      <td>3.0</td>\n      <td>1.0</td>\n      <td>4.187844e-05</td>\n      <td>1.0</td>\n      <td>3.0</td>\n      <td>0</td>\n    </tr>\n    <tr>\n      <th>4</th>\n      <td>4</td>\n      <td>4.0</td>\n      <td>0.0</td>\n      <td>5.921357e-05</td>\n      <td>0.0</td>\n      <td>4.0</td>\n      <td>0</td>\n    </tr>\n    <tr>\n      <th>5</th>\n      <td>5</td>\n      <td>4.0</td>\n      <td>0.0</td>\n      <td>6.036840e-05</td>\n      <td>0.0</td>\n      <td>4.0</td>\n      <td>0</td>\n    </tr>\n    <tr>\n      <th>6</th>\n      <td>6</td>\n      <td>4.0</td>\n      <td>0.0</td>\n      <td>4.530486e-06</td>\n      <td>0.0</td>\n      <td>4.0</td>\n      <td>0</td>\n    </tr>\n    <tr>\n      <th>7</th>\n      <td>7</td>\n      <td>4.0</td>\n      <td>0.0</td>\n      <td>7.163751e-05</td>\n      <td>0.0</td>\n      <td>4.0</td>\n      <td>0</td>\n    </tr>\n    <tr>\n      <th>8</th>\n      <td>8</td>\n      <td>4.0</td>\n      <td>0.0</td>\n      <td>5.736077e-06</td>\n      <td>0.0</td>\n      <td>4.0</td>\n      <td>0</td>\n    </tr>\n    <tr>\n      <th>9</th>\n      <td>9</td>\n      <td>4.0</td>\n      <td>0.0</td>\n      <td>6.852835e-05</td>\n      <td>0.0</td>\n      <td>3.0</td>\n      <td>0</td>\n    </tr>\n  </tbody>\n</table>\n</div>"
     },
     "metadata": {},
     "execution_count": 14
    }
   ],
   "source": [
    "df['Individuals Affected'] = df['Individuals Affected'].apply(lambda v: ((v-df['Individuals Affected'].min())/(df['Individuals Affected'].max()-df['Individuals Affected'].min())))\n",
    "df.head(10)"
   ]
  },
  {
   "cell_type": "code",
   "execution_count": 16,
   "metadata": {},
   "outputs": [
    {
     "output_type": "execute_result",
     "data": {
      "text/plain": [
       "                                       State  Covered Entity Type  \\\n",
       "State                             162.154152            -0.002287   \n",
       "Covered Entity Type                -0.002287             0.592424   \n",
       "Individuals Affected                0.011086             0.000669   \n",
       "Type of Breach                      2.594671             0.353728   \n",
       "Location of Breached Information    3.945805            -0.787924   \n",
       "Business Associate Present         -0.090951             0.252097   \n",
       "\n",
       "                                  Individuals Affected  Type of Breach  \\\n",
       "State                                         0.011086        2.594671   \n",
       "Covered Entity Type                           0.000669        0.353728   \n",
       "Individuals Affected                          0.000634       -0.000774   \n",
       "Type of Breach                               -0.000774       19.123342   \n",
       "Location of Breached Information             -0.002419        2.222602   \n",
       "Business Associate Present                   -0.000021        0.113427   \n",
       "\n",
       "                                  Location of Breached Information  \\\n",
       "State                                                     3.945805   \n",
       "Covered Entity Type                                      -0.787924   \n",
       "Individuals Affected                                     -0.002419   \n",
       "Type of Breach                                            2.222602   \n",
       "Location of Breached Information                         79.768532   \n",
       "Business Associate Present                               -0.304210   \n",
       "\n",
       "                                  Business Associate Present  \n",
       "State                                              -0.090951  \n",
       "Covered Entity Type                                 0.252097  \n",
       "Individuals Affected                               -0.000021  \n",
       "Type of Breach                                      0.113427  \n",
       "Location of Breached Information                   -0.304210  \n",
       "Business Associate Present                          0.145147  "
      ],
      "text/html": "<div>\n<style scoped>\n    .dataframe tbody tr th:only-of-type {\n        vertical-align: middle;\n    }\n\n    .dataframe tbody tr th {\n        vertical-align: top;\n    }\n\n    .dataframe thead th {\n        text-align: right;\n    }\n</style>\n<table border=\"1\" class=\"dataframe\">\n  <thead>\n    <tr style=\"text-align: right;\">\n      <th></th>\n      <th>State</th>\n      <th>Covered Entity Type</th>\n      <th>Individuals Affected</th>\n      <th>Type of Breach</th>\n      <th>Location of Breached Information</th>\n      <th>Business Associate Present</th>\n    </tr>\n  </thead>\n  <tbody>\n    <tr>\n      <th>State</th>\n      <td>162.154152</td>\n      <td>-0.002287</td>\n      <td>0.011086</td>\n      <td>2.594671</td>\n      <td>3.945805</td>\n      <td>-0.090951</td>\n    </tr>\n    <tr>\n      <th>Covered Entity Type</th>\n      <td>-0.002287</td>\n      <td>0.592424</td>\n      <td>0.000669</td>\n      <td>0.353728</td>\n      <td>-0.787924</td>\n      <td>0.252097</td>\n    </tr>\n    <tr>\n      <th>Individuals Affected</th>\n      <td>0.011086</td>\n      <td>0.000669</td>\n      <td>0.000634</td>\n      <td>-0.000774</td>\n      <td>-0.002419</td>\n      <td>-0.000021</td>\n    </tr>\n    <tr>\n      <th>Type of Breach</th>\n      <td>2.594671</td>\n      <td>0.353728</td>\n      <td>-0.000774</td>\n      <td>19.123342</td>\n      <td>2.222602</td>\n      <td>0.113427</td>\n    </tr>\n    <tr>\n      <th>Location of Breached Information</th>\n      <td>3.945805</td>\n      <td>-0.787924</td>\n      <td>-0.002419</td>\n      <td>2.222602</td>\n      <td>79.768532</td>\n      <td>-0.304210</td>\n    </tr>\n    <tr>\n      <th>Business Associate Present</th>\n      <td>-0.090951</td>\n      <td>0.252097</td>\n      <td>-0.000021</td>\n      <td>0.113427</td>\n      <td>-0.304210</td>\n      <td>0.145147</td>\n    </tr>\n  </tbody>\n</table>\n</div>"
     },
     "metadata": {},
     "execution_count": 16
    }
   ],
   "source": [
    "df.cov()"
   ]
  },
  {
   "cell_type": "code",
   "execution_count": 17,
   "metadata": {},
   "outputs": [],
   "source": [
    "import matplotlib.pyplot as plt\n",
    "%matplotlib inline"
   ]
  },
  {
   "cell_type": "code",
   "execution_count": 18,
   "metadata": {},
   "outputs": [
    {
     "output_type": "display_data",
     "data": {
      "text/plain": "<Figure size 288x288 with 2 Axes>",
      "image/svg+xml": "<?xml version=\"1.0\" encoding=\"utf-8\" standalone=\"no\"?>\r\n<!DOCTYPE svg PUBLIC \"-//W3C//DTD SVG 1.1//EN\"\r\n  \"http://www.w3.org/Graphics/SVG/1.1/DTD/svg11.dtd\">\r\n<svg height=\"389.001875pt\" version=\"1.1\" viewBox=\"0 0 411.905 389.001875\" width=\"411.905pt\" xmlns=\"http://www.w3.org/2000/svg\" xmlns:xlink=\"http://www.w3.org/1999/xlink\">\r\n <metadata>\r\n  <rdf:RDF xmlns:cc=\"http://creativecommons.org/ns#\" xmlns:dc=\"http://purl.org/dc/elements/1.1/\" xmlns:rdf=\"http://www.w3.org/1999/02/22-rdf-syntax-ns#\">\r\n   <cc:Work>\r\n    <dc:type rdf:resource=\"http://purl.org/dc/dcmitype/StillImage\"/>\r\n    <dc:date>2021-07-13T20:59:32.074486</dc:date>\r\n    <dc:format>image/svg+xml</dc:format>\r\n    <dc:creator>\r\n     <cc:Agent>\r\n      <dc:title>Matplotlib v3.4.2, https://matplotlib.org/</dc:title>\r\n     </cc:Agent>\r\n    </dc:creator>\r\n   </cc:Work>\r\n  </rdf:RDF>\r\n </metadata>\r\n <defs>\r\n  <style type=\"text/css\">*{stroke-linecap:butt;stroke-linejoin:round;}</style>\r\n </defs>\r\n <g id=\"figure_1\">\r\n  <g id=\"patch_1\">\r\n   <path d=\"M 0 389.001875 \r\nL 411.905 389.001875 \r\nL 411.905 0 \r\nL 0 0 \r\nz\r\n\" style=\"fill:none;\"/>\r\n  </g>\r\n  <g id=\"axes_1\">\r\n   <g id=\"patch_2\">\r\n    <path d=\"M 180.921875 359.481875 \r\nL 359.481875 359.481875 \r\nL 359.481875 180.921875 \r\nL 180.921875 180.921875 \r\nz\r\n\" style=\"fill:#ffffff;\"/>\r\n   </g>\r\n   <g clip-path=\"url(#pc289c1c85a)\">\r\n    <image height=\"165\" id=\"image39e0c35bf6\" transform=\"scale(1 -1)translate(0 -165)\" width=\"165\" x=\"180.921875\" xlink:href=\"data:image/png;base64,\r\niVBORw0KGgoAAAANSUhEUgAAAKUAAAClCAYAAAA9Kz3aAAACnElEQVR4nO3csa4OaBSG0X1O/qAgoiGIZjRqhUuiUaFVTTeZkUh0rmnUKo2gJKFA5PwKet3OU6x1A2/zfLv8Tq7+c/84S/5/sLX0y72Xe1uXz+9tzcy8+bi39e3p3tbMzOnuHPyZKMkRJTmiJEeU5IiSHFGSI0pyREmOKMkRJTmiJEeU5IiSHFGSI0pyREmOKMkRJTmiJEeU5IiSHFGSI0pyREmOKMkRJTmHi+f2xm4929uambl2cW9r7UOm3zb/9zn/997WjEtJkCjJESU5oiRHlOSIkhxRkiNKckRJjijJESU5oiRHlOSIkhxRkiNKckRJjijJESU5oiRHlOSIkhxRkiNKckRJjijJOZwuZnn3+t7WzMz7z3tbrx/ubc3M3Hmxt/XXlb2tGZeSIFGSI0pyREmOKMkRJTmiJEeU5IiSHFGSI0pyREmOKMkRJTmiJEeU5IiSHFGSI0pyREmOKMkRJTmiJEeU5IiSHFGSI0pyDmdne2Ofvu5tzcx8eLK3df3fva2ZmePi1unJ4ti4lASJkhxRkiNKckRJjijJESU5oiRHlOSIkhxRkiNKckRJjijJESU5oiRHlOSIkhxRkiNKckRJjijJESU5oiRHlOSIkpzD1x97Y+8e723NzNx+vrd149Le1szMqw97W28f7W3NuJQEiZIcUZIjSnJESY4oyRElOaIkR5TkiJIcUZIjSnJESY4oyRElOaIkR5TkiJIcUZIjSnJESY4oyRElOaIkR5TkiJIcUZJzcjzeP26N3fxva+mXC4e9rdPl5312trf15fve1oxLSZAoyRElOaIkR5TkiJIcUZIjSnJESY4oyRElOaIkR5TkiJIcUZIjSnJESY4oyRElOaIkR5TkiJIcUZIjSnJESY4oyfkJbjMnCmo/x+UAAAAASUVORK5CYII=\" y=\"-180.74649\"/>\r\n   </g>\r\n   <g id=\"matplotlib.axis_1\">\r\n    <g id=\"xtick_1\">\r\n     <g id=\"line2d_1\">\r\n      <defs>\r\n       <path d=\"M 0 0 \r\nL 0 3.5 \r\n\" id=\"mae55c8556c\" style=\"stroke:#000000;stroke-width:0.8;\"/>\r\n      </defs>\r\n      <g>\r\n       <use style=\"stroke:#000000;stroke-width:0.8;\" x=\"194.65726\" xlink:href=\"#mae55c8556c\" y=\"359.481875\"/>\r\n      </g>\r\n     </g>\r\n     <g id=\"line2d_2\">\r\n      <defs>\r\n       <path d=\"M 0 0 \r\nL 0 -3.5 \r\n\" id=\"m92040ca3ce\" style=\"stroke:#000000;stroke-width:0.8;\"/>\r\n      </defs>\r\n      <g>\r\n       <use style=\"stroke:#000000;stroke-width:0.8;\" x=\"194.65726\" xlink:href=\"#m92040ca3ce\" y=\"180.921875\"/>\r\n      </g>\r\n     </g>\r\n     <g id=\"text_1\">\r\n      <!-- Name of Covered Entity -->\r\n      <g transform=\"translate(197.416635 173.921875)rotate(-90)scale(0.1 -0.1)\">\r\n       <defs>\r\n        <path d=\"M 628 4666 \r\nL 1478 4666 \r\nL 3547 763 \r\nL 3547 4666 \r\nL 4159 4666 \r\nL 4159 0 \r\nL 3309 0 \r\nL 1241 3903 \r\nL 1241 0 \r\nL 628 0 \r\nL 628 4666 \r\nz\r\n\" id=\"DejaVuSans-4e\" transform=\"scale(0.015625)\"/>\r\n        <path d=\"M 2194 1759 \r\nQ 1497 1759 1228 1600 \r\nQ 959 1441 959 1056 \r\nQ 959 750 1161 570 \r\nQ 1363 391 1709 391 \r\nQ 2188 391 2477 730 \r\nQ 2766 1069 2766 1631 \r\nL 2766 1759 \r\nL 2194 1759 \r\nz\r\nM 3341 1997 \r\nL 3341 0 \r\nL 2766 0 \r\nL 2766 531 \r\nQ 2569 213 2275 61 \r\nQ 1981 -91 1556 -91 \r\nQ 1019 -91 701 211 \r\nQ 384 513 384 1019 \r\nQ 384 1609 779 1909 \r\nQ 1175 2209 1959 2209 \r\nL 2766 2209 \r\nL 2766 2266 \r\nQ 2766 2663 2505 2880 \r\nQ 2244 3097 1772 3097 \r\nQ 1472 3097 1187 3025 \r\nQ 903 2953 641 2809 \r\nL 641 3341 \r\nQ 956 3463 1253 3523 \r\nQ 1550 3584 1831 3584 \r\nQ 2591 3584 2966 3190 \r\nQ 3341 2797 3341 1997 \r\nz\r\n\" id=\"DejaVuSans-61\" transform=\"scale(0.015625)\"/>\r\n        <path d=\"M 3328 2828 \r\nQ 3544 3216 3844 3400 \r\nQ 4144 3584 4550 3584 \r\nQ 5097 3584 5394 3201 \r\nQ 5691 2819 5691 2113 \r\nL 5691 0 \r\nL 5113 0 \r\nL 5113 2094 \r\nQ 5113 2597 4934 2840 \r\nQ 4756 3084 4391 3084 \r\nQ 3944 3084 3684 2787 \r\nQ 3425 2491 3425 1978 \r\nL 3425 0 \r\nL 2847 0 \r\nL 2847 2094 \r\nQ 2847 2600 2669 2842 \r\nQ 2491 3084 2119 3084 \r\nQ 1678 3084 1418 2786 \r\nQ 1159 2488 1159 1978 \r\nL 1159 0 \r\nL 581 0 \r\nL 581 3500 \r\nL 1159 3500 \r\nL 1159 2956 \r\nQ 1356 3278 1631 3431 \r\nQ 1906 3584 2284 3584 \r\nQ 2666 3584 2933 3390 \r\nQ 3200 3197 3328 2828 \r\nz\r\n\" id=\"DejaVuSans-6d\" transform=\"scale(0.015625)\"/>\r\n        <path d=\"M 3597 1894 \r\nL 3597 1613 \r\nL 953 1613 \r\nQ 991 1019 1311 708 \r\nQ 1631 397 2203 397 \r\nQ 2534 397 2845 478 \r\nQ 3156 559 3463 722 \r\nL 3463 178 \r\nQ 3153 47 2828 -22 \r\nQ 2503 -91 2169 -91 \r\nQ 1331 -91 842 396 \r\nQ 353 884 353 1716 \r\nQ 353 2575 817 3079 \r\nQ 1281 3584 2069 3584 \r\nQ 2775 3584 3186 3129 \r\nQ 3597 2675 3597 1894 \r\nz\r\nM 3022 2063 \r\nQ 3016 2534 2758 2815 \r\nQ 2500 3097 2075 3097 \r\nQ 1594 3097 1305 2825 \r\nQ 1016 2553 972 2059 \r\nL 3022 2063 \r\nz\r\n\" id=\"DejaVuSans-65\" transform=\"scale(0.015625)\"/>\r\n        <path id=\"DejaVuSans-20\" transform=\"scale(0.015625)\"/>\r\n        <path d=\"M 1959 3097 \r\nQ 1497 3097 1228 2736 \r\nQ 959 2375 959 1747 \r\nQ 959 1119 1226 758 \r\nQ 1494 397 1959 397 \r\nQ 2419 397 2687 759 \r\nQ 2956 1122 2956 1747 \r\nQ 2956 2369 2687 2733 \r\nQ 2419 3097 1959 3097 \r\nz\r\nM 1959 3584 \r\nQ 2709 3584 3137 3096 \r\nQ 3566 2609 3566 1747 \r\nQ 3566 888 3137 398 \r\nQ 2709 -91 1959 -91 \r\nQ 1206 -91 779 398 \r\nQ 353 888 353 1747 \r\nQ 353 2609 779 3096 \r\nQ 1206 3584 1959 3584 \r\nz\r\n\" id=\"DejaVuSans-6f\" transform=\"scale(0.015625)\"/>\r\n        <path d=\"M 2375 4863 \r\nL 2375 4384 \r\nL 1825 4384 \r\nQ 1516 4384 1395 4259 \r\nQ 1275 4134 1275 3809 \r\nL 1275 3500 \r\nL 2222 3500 \r\nL 2222 3053 \r\nL 1275 3053 \r\nL 1275 0 \r\nL 697 0 \r\nL 697 3053 \r\nL 147 3053 \r\nL 147 3500 \r\nL 697 3500 \r\nL 697 3744 \r\nQ 697 4328 969 4595 \r\nQ 1241 4863 1831 4863 \r\nL 2375 4863 \r\nz\r\n\" id=\"DejaVuSans-66\" transform=\"scale(0.015625)\"/>\r\n        <path d=\"M 4122 4306 \r\nL 4122 3641 \r\nQ 3803 3938 3442 4084 \r\nQ 3081 4231 2675 4231 \r\nQ 1875 4231 1450 3742 \r\nQ 1025 3253 1025 2328 \r\nQ 1025 1406 1450 917 \r\nQ 1875 428 2675 428 \r\nQ 3081 428 3442 575 \r\nQ 3803 722 4122 1019 \r\nL 4122 359 \r\nQ 3791 134 3420 21 \r\nQ 3050 -91 2638 -91 \r\nQ 1578 -91 968 557 \r\nQ 359 1206 359 2328 \r\nQ 359 3453 968 4101 \r\nQ 1578 4750 2638 4750 \r\nQ 3056 4750 3426 4639 \r\nQ 3797 4528 4122 4306 \r\nz\r\n\" id=\"DejaVuSans-43\" transform=\"scale(0.015625)\"/>\r\n        <path d=\"M 191 3500 \r\nL 800 3500 \r\nL 1894 563 \r\nL 2988 3500 \r\nL 3597 3500 \r\nL 2284 0 \r\nL 1503 0 \r\nL 191 3500 \r\nz\r\n\" id=\"DejaVuSans-76\" transform=\"scale(0.015625)\"/>\r\n        <path d=\"M 2631 2963 \r\nQ 2534 3019 2420 3045 \r\nQ 2306 3072 2169 3072 \r\nQ 1681 3072 1420 2755 \r\nQ 1159 2438 1159 1844 \r\nL 1159 0 \r\nL 581 0 \r\nL 581 3500 \r\nL 1159 3500 \r\nL 1159 2956 \r\nQ 1341 3275 1631 3429 \r\nQ 1922 3584 2338 3584 \r\nQ 2397 3584 2469 3576 \r\nQ 2541 3569 2628 3553 \r\nL 2631 2963 \r\nz\r\n\" id=\"DejaVuSans-72\" transform=\"scale(0.015625)\"/>\r\n        <path d=\"M 2906 2969 \r\nL 2906 4863 \r\nL 3481 4863 \r\nL 3481 0 \r\nL 2906 0 \r\nL 2906 525 \r\nQ 2725 213 2448 61 \r\nQ 2172 -91 1784 -91 \r\nQ 1150 -91 751 415 \r\nQ 353 922 353 1747 \r\nQ 353 2572 751 3078 \r\nQ 1150 3584 1784 3584 \r\nQ 2172 3584 2448 3432 \r\nQ 2725 3281 2906 2969 \r\nz\r\nM 947 1747 \r\nQ 947 1113 1208 752 \r\nQ 1469 391 1925 391 \r\nQ 2381 391 2643 752 \r\nQ 2906 1113 2906 1747 \r\nQ 2906 2381 2643 2742 \r\nQ 2381 3103 1925 3103 \r\nQ 1469 3103 1208 2742 \r\nQ 947 2381 947 1747 \r\nz\r\n\" id=\"DejaVuSans-64\" transform=\"scale(0.015625)\"/>\r\n        <path d=\"M 628 4666 \r\nL 3578 4666 \r\nL 3578 4134 \r\nL 1259 4134 \r\nL 1259 2753 \r\nL 3481 2753 \r\nL 3481 2222 \r\nL 1259 2222 \r\nL 1259 531 \r\nL 3634 531 \r\nL 3634 0 \r\nL 628 0 \r\nL 628 4666 \r\nz\r\n\" id=\"DejaVuSans-45\" transform=\"scale(0.015625)\"/>\r\n        <path d=\"M 3513 2113 \r\nL 3513 0 \r\nL 2938 0 \r\nL 2938 2094 \r\nQ 2938 2591 2744 2837 \r\nQ 2550 3084 2163 3084 \r\nQ 1697 3084 1428 2787 \r\nQ 1159 2491 1159 1978 \r\nL 1159 0 \r\nL 581 0 \r\nL 581 3500 \r\nL 1159 3500 \r\nL 1159 2956 \r\nQ 1366 3272 1645 3428 \r\nQ 1925 3584 2291 3584 \r\nQ 2894 3584 3203 3211 \r\nQ 3513 2838 3513 2113 \r\nz\r\n\" id=\"DejaVuSans-6e\" transform=\"scale(0.015625)\"/>\r\n        <path d=\"M 1172 4494 \r\nL 1172 3500 \r\nL 2356 3500 \r\nL 2356 3053 \r\nL 1172 3053 \r\nL 1172 1153 \r\nQ 1172 725 1289 603 \r\nQ 1406 481 1766 481 \r\nL 2356 481 \r\nL 2356 0 \r\nL 1766 0 \r\nQ 1100 0 847 248 \r\nQ 594 497 594 1153 \r\nL 594 3053 \r\nL 172 3053 \r\nL 172 3500 \r\nL 594 3500 \r\nL 594 4494 \r\nL 1172 4494 \r\nz\r\n\" id=\"DejaVuSans-74\" transform=\"scale(0.015625)\"/>\r\n        <path d=\"M 603 3500 \r\nL 1178 3500 \r\nL 1178 0 \r\nL 603 0 \r\nL 603 3500 \r\nz\r\nM 603 4863 \r\nL 1178 4863 \r\nL 1178 4134 \r\nL 603 4134 \r\nL 603 4863 \r\nz\r\n\" id=\"DejaVuSans-69\" transform=\"scale(0.015625)\"/>\r\n        <path d=\"M 2059 -325 \r\nQ 1816 -950 1584 -1140 \r\nQ 1353 -1331 966 -1331 \r\nL 506 -1331 \r\nL 506 -850 \r\nL 844 -850 \r\nQ 1081 -850 1212 -737 \r\nQ 1344 -625 1503 -206 \r\nL 1606 56 \r\nL 191 3500 \r\nL 800 3500 \r\nL 1894 763 \r\nL 2988 3500 \r\nL 3597 3500 \r\nL 2059 -325 \r\nz\r\n\" id=\"DejaVuSans-79\" transform=\"scale(0.015625)\"/>\r\n       </defs>\r\n       <use xlink:href=\"#DejaVuSans-4e\"/>\r\n       <use x=\"74.804688\" xlink:href=\"#DejaVuSans-61\"/>\r\n       <use x=\"136.083984\" xlink:href=\"#DejaVuSans-6d\"/>\r\n       <use x=\"233.496094\" xlink:href=\"#DejaVuSans-65\"/>\r\n       <use x=\"295.019531\" xlink:href=\"#DejaVuSans-20\"/>\r\n       <use x=\"326.806641\" xlink:href=\"#DejaVuSans-6f\"/>\r\n       <use x=\"387.988281\" xlink:href=\"#DejaVuSans-66\"/>\r\n       <use x=\"423.193359\" xlink:href=\"#DejaVuSans-20\"/>\r\n       <use x=\"454.980469\" xlink:href=\"#DejaVuSans-43\"/>\r\n       <use x=\"524.804688\" xlink:href=\"#DejaVuSans-6f\"/>\r\n       <use x=\"585.986328\" xlink:href=\"#DejaVuSans-76\"/>\r\n       <use x=\"645.166016\" xlink:href=\"#DejaVuSans-65\"/>\r\n       <use x=\"706.689453\" xlink:href=\"#DejaVuSans-72\"/>\r\n       <use x=\"745.552734\" xlink:href=\"#DejaVuSans-65\"/>\r\n       <use x=\"807.076172\" xlink:href=\"#DejaVuSans-64\"/>\r\n       <use x=\"870.552734\" xlink:href=\"#DejaVuSans-20\"/>\r\n       <use x=\"902.339844\" xlink:href=\"#DejaVuSans-45\"/>\r\n       <use x=\"965.523438\" xlink:href=\"#DejaVuSans-6e\"/>\r\n       <use x=\"1028.902344\" xlink:href=\"#DejaVuSans-74\"/>\r\n       <use x=\"1068.111328\" xlink:href=\"#DejaVuSans-69\"/>\r\n       <use x=\"1095.894531\" xlink:href=\"#DejaVuSans-74\"/>\r\n       <use x=\"1135.103516\" xlink:href=\"#DejaVuSans-79\"/>\r\n      </g>\r\n     </g>\r\n    </g>\r\n    <g id=\"xtick_2\">\r\n     <g id=\"line2d_3\">\r\n      <g>\r\n       <use style=\"stroke:#000000;stroke-width:0.8;\" x=\"222.128029\" xlink:href=\"#mae55c8556c\" y=\"359.481875\"/>\r\n      </g>\r\n     </g>\r\n     <g id=\"line2d_4\">\r\n      <g>\r\n       <use style=\"stroke:#000000;stroke-width:0.8;\" x=\"222.128029\" xlink:href=\"#m92040ca3ce\" y=\"180.921875\"/>\r\n      </g>\r\n     </g>\r\n     <g id=\"text_2\">\r\n      <!-- State -->\r\n      <g transform=\"translate(224.887404 173.921875)rotate(-90)scale(0.1 -0.1)\">\r\n       <defs>\r\n        <path d=\"M 3425 4513 \r\nL 3425 3897 \r\nQ 3066 4069 2747 4153 \r\nQ 2428 4238 2131 4238 \r\nQ 1616 4238 1336 4038 \r\nQ 1056 3838 1056 3469 \r\nQ 1056 3159 1242 3001 \r\nQ 1428 2844 1947 2747 \r\nL 2328 2669 \r\nQ 3034 2534 3370 2195 \r\nQ 3706 1856 3706 1288 \r\nQ 3706 609 3251 259 \r\nQ 2797 -91 1919 -91 \r\nQ 1588 -91 1214 -16 \r\nQ 841 59 441 206 \r\nL 441 856 \r\nQ 825 641 1194 531 \r\nQ 1563 422 1919 422 \r\nQ 2459 422 2753 634 \r\nQ 3047 847 3047 1241 \r\nQ 3047 1584 2836 1778 \r\nQ 2625 1972 2144 2069 \r\nL 1759 2144 \r\nQ 1053 2284 737 2584 \r\nQ 422 2884 422 3419 \r\nQ 422 4038 858 4394 \r\nQ 1294 4750 2059 4750 \r\nQ 2388 4750 2728 4690 \r\nQ 3069 4631 3425 4513 \r\nz\r\n\" id=\"DejaVuSans-53\" transform=\"scale(0.015625)\"/>\r\n       </defs>\r\n       <use xlink:href=\"#DejaVuSans-53\"/>\r\n       <use x=\"63.476562\" xlink:href=\"#DejaVuSans-74\"/>\r\n       <use x=\"102.685547\" xlink:href=\"#DejaVuSans-61\"/>\r\n       <use x=\"163.964844\" xlink:href=\"#DejaVuSans-74\"/>\r\n       <use x=\"203.173828\" xlink:href=\"#DejaVuSans-65\"/>\r\n      </g>\r\n     </g>\r\n    </g>\r\n    <g id=\"xtick_3\">\r\n     <g id=\"line2d_5\">\r\n      <g>\r\n       <use style=\"stroke:#000000;stroke-width:0.8;\" x=\"249.598798\" xlink:href=\"#mae55c8556c\" y=\"359.481875\"/>\r\n      </g>\r\n     </g>\r\n     <g id=\"line2d_6\">\r\n      <g>\r\n       <use style=\"stroke:#000000;stroke-width:0.8;\" x=\"249.598798\" xlink:href=\"#m92040ca3ce\" y=\"180.921875\"/>\r\n      </g>\r\n     </g>\r\n     <g id=\"text_3\">\r\n      <!-- Covered Entity Type -->\r\n      <g transform=\"translate(252.358173 173.921875)rotate(-90)scale(0.1 -0.1)\">\r\n       <defs>\r\n        <path d=\"M -19 4666 \r\nL 3928 4666 \r\nL 3928 4134 \r\nL 2272 4134 \r\nL 2272 0 \r\nL 1638 0 \r\nL 1638 4134 \r\nL -19 4134 \r\nL -19 4666 \r\nz\r\n\" id=\"DejaVuSans-54\" transform=\"scale(0.015625)\"/>\r\n        <path d=\"M 1159 525 \r\nL 1159 -1331 \r\nL 581 -1331 \r\nL 581 3500 \r\nL 1159 3500 \r\nL 1159 2969 \r\nQ 1341 3281 1617 3432 \r\nQ 1894 3584 2278 3584 \r\nQ 2916 3584 3314 3078 \r\nQ 3713 2572 3713 1747 \r\nQ 3713 922 3314 415 \r\nQ 2916 -91 2278 -91 \r\nQ 1894 -91 1617 61 \r\nQ 1341 213 1159 525 \r\nz\r\nM 3116 1747 \r\nQ 3116 2381 2855 2742 \r\nQ 2594 3103 2138 3103 \r\nQ 1681 3103 1420 2742 \r\nQ 1159 2381 1159 1747 \r\nQ 1159 1113 1420 752 \r\nQ 1681 391 2138 391 \r\nQ 2594 391 2855 752 \r\nQ 3116 1113 3116 1747 \r\nz\r\n\" id=\"DejaVuSans-70\" transform=\"scale(0.015625)\"/>\r\n       </defs>\r\n       <use xlink:href=\"#DejaVuSans-43\"/>\r\n       <use x=\"69.824219\" xlink:href=\"#DejaVuSans-6f\"/>\r\n       <use x=\"131.005859\" xlink:href=\"#DejaVuSans-76\"/>\r\n       <use x=\"190.185547\" xlink:href=\"#DejaVuSans-65\"/>\r\n       <use x=\"251.708984\" xlink:href=\"#DejaVuSans-72\"/>\r\n       <use x=\"290.572266\" xlink:href=\"#DejaVuSans-65\"/>\r\n       <use x=\"352.095703\" xlink:href=\"#DejaVuSans-64\"/>\r\n       <use x=\"415.572266\" xlink:href=\"#DejaVuSans-20\"/>\r\n       <use x=\"447.359375\" xlink:href=\"#DejaVuSans-45\"/>\r\n       <use x=\"510.542969\" xlink:href=\"#DejaVuSans-6e\"/>\r\n       <use x=\"573.921875\" xlink:href=\"#DejaVuSans-74\"/>\r\n       <use x=\"613.130859\" xlink:href=\"#DejaVuSans-69\"/>\r\n       <use x=\"640.914062\" xlink:href=\"#DejaVuSans-74\"/>\r\n       <use x=\"680.123047\" xlink:href=\"#DejaVuSans-79\"/>\r\n       <use x=\"739.302734\" xlink:href=\"#DejaVuSans-20\"/>\r\n       <use x=\"771.089844\" xlink:href=\"#DejaVuSans-54\"/>\r\n       <use x=\"816.548828\" xlink:href=\"#DejaVuSans-79\"/>\r\n       <use x=\"875.728516\" xlink:href=\"#DejaVuSans-70\"/>\r\n       <use x=\"939.205078\" xlink:href=\"#DejaVuSans-65\"/>\r\n      </g>\r\n     </g>\r\n    </g>\r\n    <g id=\"xtick_4\">\r\n     <g id=\"line2d_7\">\r\n      <g>\r\n       <use style=\"stroke:#000000;stroke-width:0.8;\" x=\"277.069567\" xlink:href=\"#mae55c8556c\" y=\"359.481875\"/>\r\n      </g>\r\n     </g>\r\n     <g id=\"line2d_8\">\r\n      <g>\r\n       <use style=\"stroke:#000000;stroke-width:0.8;\" x=\"277.069567\" xlink:href=\"#m92040ca3ce\" y=\"180.921875\"/>\r\n      </g>\r\n     </g>\r\n     <g id=\"text_4\">\r\n      <!-- Individuals Affected -->\r\n      <g transform=\"translate(279.828942 173.921875)rotate(-90)scale(0.1 -0.1)\">\r\n       <defs>\r\n        <path d=\"M 628 4666 \r\nL 1259 4666 \r\nL 1259 0 \r\nL 628 0 \r\nL 628 4666 \r\nz\r\n\" id=\"DejaVuSans-49\" transform=\"scale(0.015625)\"/>\r\n        <path d=\"M 544 1381 \r\nL 544 3500 \r\nL 1119 3500 \r\nL 1119 1403 \r\nQ 1119 906 1312 657 \r\nQ 1506 409 1894 409 \r\nQ 2359 409 2629 706 \r\nQ 2900 1003 2900 1516 \r\nL 2900 3500 \r\nL 3475 3500 \r\nL 3475 0 \r\nL 2900 0 \r\nL 2900 538 \r\nQ 2691 219 2414 64 \r\nQ 2138 -91 1772 -91 \r\nQ 1169 -91 856 284 \r\nQ 544 659 544 1381 \r\nz\r\nM 1991 3584 \r\nL 1991 3584 \r\nz\r\n\" id=\"DejaVuSans-75\" transform=\"scale(0.015625)\"/>\r\n        <path d=\"M 603 4863 \r\nL 1178 4863 \r\nL 1178 0 \r\nL 603 0 \r\nL 603 4863 \r\nz\r\n\" id=\"DejaVuSans-6c\" transform=\"scale(0.015625)\"/>\r\n        <path d=\"M 2834 3397 \r\nL 2834 2853 \r\nQ 2591 2978 2328 3040 \r\nQ 2066 3103 1784 3103 \r\nQ 1356 3103 1142 2972 \r\nQ 928 2841 928 2578 \r\nQ 928 2378 1081 2264 \r\nQ 1234 2150 1697 2047 \r\nL 1894 2003 \r\nQ 2506 1872 2764 1633 \r\nQ 3022 1394 3022 966 \r\nQ 3022 478 2636 193 \r\nQ 2250 -91 1575 -91 \r\nQ 1294 -91 989 -36 \r\nQ 684 19 347 128 \r\nL 347 722 \r\nQ 666 556 975 473 \r\nQ 1284 391 1588 391 \r\nQ 1994 391 2212 530 \r\nQ 2431 669 2431 922 \r\nQ 2431 1156 2273 1281 \r\nQ 2116 1406 1581 1522 \r\nL 1381 1569 \r\nQ 847 1681 609 1914 \r\nQ 372 2147 372 2553 \r\nQ 372 3047 722 3315 \r\nQ 1072 3584 1716 3584 \r\nQ 2034 3584 2315 3537 \r\nQ 2597 3491 2834 3397 \r\nz\r\n\" id=\"DejaVuSans-73\" transform=\"scale(0.015625)\"/>\r\n        <path d=\"M 2188 4044 \r\nL 1331 1722 \r\nL 3047 1722 \r\nL 2188 4044 \r\nz\r\nM 1831 4666 \r\nL 2547 4666 \r\nL 4325 0 \r\nL 3669 0 \r\nL 3244 1197 \r\nL 1141 1197 \r\nL 716 0 \r\nL 50 0 \r\nL 1831 4666 \r\nz\r\n\" id=\"DejaVuSans-41\" transform=\"scale(0.015625)\"/>\r\n        <path d=\"M 3122 3366 \r\nL 3122 2828 \r\nQ 2878 2963 2633 3030 \r\nQ 2388 3097 2138 3097 \r\nQ 1578 3097 1268 2742 \r\nQ 959 2388 959 1747 \r\nQ 959 1106 1268 751 \r\nQ 1578 397 2138 397 \r\nQ 2388 397 2633 464 \r\nQ 2878 531 3122 666 \r\nL 3122 134 \r\nQ 2881 22 2623 -34 \r\nQ 2366 -91 2075 -91 \r\nQ 1284 -91 818 406 \r\nQ 353 903 353 1747 \r\nQ 353 2603 823 3093 \r\nQ 1294 3584 2113 3584 \r\nQ 2378 3584 2631 3529 \r\nQ 2884 3475 3122 3366 \r\nz\r\n\" id=\"DejaVuSans-63\" transform=\"scale(0.015625)\"/>\r\n       </defs>\r\n       <use xlink:href=\"#DejaVuSans-49\"/>\r\n       <use x=\"29.492188\" xlink:href=\"#DejaVuSans-6e\"/>\r\n       <use x=\"92.871094\" xlink:href=\"#DejaVuSans-64\"/>\r\n       <use x=\"156.347656\" xlink:href=\"#DejaVuSans-69\"/>\r\n       <use x=\"184.130859\" xlink:href=\"#DejaVuSans-76\"/>\r\n       <use x=\"243.310547\" xlink:href=\"#DejaVuSans-69\"/>\r\n       <use x=\"271.09375\" xlink:href=\"#DejaVuSans-64\"/>\r\n       <use x=\"334.570312\" xlink:href=\"#DejaVuSans-75\"/>\r\n       <use x=\"397.949219\" xlink:href=\"#DejaVuSans-61\"/>\r\n       <use x=\"459.228516\" xlink:href=\"#DejaVuSans-6c\"/>\r\n       <use x=\"487.011719\" xlink:href=\"#DejaVuSans-73\"/>\r\n       <use x=\"539.111328\" xlink:href=\"#DejaVuSans-20\"/>\r\n       <use x=\"570.898438\" xlink:href=\"#DejaVuSans-41\"/>\r\n       <use x=\"635.681641\" xlink:href=\"#DejaVuSans-66\"/>\r\n       <use x=\"670.886719\" xlink:href=\"#DejaVuSans-66\"/>\r\n       <use x=\"706.091797\" xlink:href=\"#DejaVuSans-65\"/>\r\n       <use x=\"767.615234\" xlink:href=\"#DejaVuSans-63\"/>\r\n       <use x=\"822.595703\" xlink:href=\"#DejaVuSans-74\"/>\r\n       <use x=\"861.804688\" xlink:href=\"#DejaVuSans-65\"/>\r\n       <use x=\"923.328125\" xlink:href=\"#DejaVuSans-64\"/>\r\n      </g>\r\n     </g>\r\n    </g>\r\n    <g id=\"xtick_5\">\r\n     <g id=\"line2d_9\">\r\n      <g>\r\n       <use style=\"stroke:#000000;stroke-width:0.8;\" x=\"304.540337\" xlink:href=\"#mae55c8556c\" y=\"359.481875\"/>\r\n      </g>\r\n     </g>\r\n     <g id=\"line2d_10\">\r\n      <g>\r\n       <use style=\"stroke:#000000;stroke-width:0.8;\" x=\"304.540337\" xlink:href=\"#m92040ca3ce\" y=\"180.921875\"/>\r\n      </g>\r\n     </g>\r\n     <g id=\"text_5\">\r\n      <!-- Type of Breach -->\r\n      <g transform=\"translate(307.299712 173.921875)rotate(-90)scale(0.1 -0.1)\">\r\n       <defs>\r\n        <path d=\"M 1259 2228 \r\nL 1259 519 \r\nL 2272 519 \r\nQ 2781 519 3026 730 \r\nQ 3272 941 3272 1375 \r\nQ 3272 1813 3026 2020 \r\nQ 2781 2228 2272 2228 \r\nL 1259 2228 \r\nz\r\nM 1259 4147 \r\nL 1259 2741 \r\nL 2194 2741 \r\nQ 2656 2741 2882 2914 \r\nQ 3109 3088 3109 3444 \r\nQ 3109 3797 2882 3972 \r\nQ 2656 4147 2194 4147 \r\nL 1259 4147 \r\nz\r\nM 628 4666 \r\nL 2241 4666 \r\nQ 2963 4666 3353 4366 \r\nQ 3744 4066 3744 3513 \r\nQ 3744 3084 3544 2831 \r\nQ 3344 2578 2956 2516 \r\nQ 3422 2416 3680 2098 \r\nQ 3938 1781 3938 1306 \r\nQ 3938 681 3513 340 \r\nQ 3088 0 2303 0 \r\nL 628 0 \r\nL 628 4666 \r\nz\r\n\" id=\"DejaVuSans-42\" transform=\"scale(0.015625)\"/>\r\n        <path d=\"M 3513 2113 \r\nL 3513 0 \r\nL 2938 0 \r\nL 2938 2094 \r\nQ 2938 2591 2744 2837 \r\nQ 2550 3084 2163 3084 \r\nQ 1697 3084 1428 2787 \r\nQ 1159 2491 1159 1978 \r\nL 1159 0 \r\nL 581 0 \r\nL 581 4863 \r\nL 1159 4863 \r\nL 1159 2956 \r\nQ 1366 3272 1645 3428 \r\nQ 1925 3584 2291 3584 \r\nQ 2894 3584 3203 3211 \r\nQ 3513 2838 3513 2113 \r\nz\r\n\" id=\"DejaVuSans-68\" transform=\"scale(0.015625)\"/>\r\n       </defs>\r\n       <use xlink:href=\"#DejaVuSans-54\"/>\r\n       <use x=\"45.458984\" xlink:href=\"#DejaVuSans-79\"/>\r\n       <use x=\"104.638672\" xlink:href=\"#DejaVuSans-70\"/>\r\n       <use x=\"168.115234\" xlink:href=\"#DejaVuSans-65\"/>\r\n       <use x=\"229.638672\" xlink:href=\"#DejaVuSans-20\"/>\r\n       <use x=\"261.425781\" xlink:href=\"#DejaVuSans-6f\"/>\r\n       <use x=\"322.607422\" xlink:href=\"#DejaVuSans-66\"/>\r\n       <use x=\"357.8125\" xlink:href=\"#DejaVuSans-20\"/>\r\n       <use x=\"389.599609\" xlink:href=\"#DejaVuSans-42\"/>\r\n       <use x=\"458.203125\" xlink:href=\"#DejaVuSans-72\"/>\r\n       <use x=\"497.066406\" xlink:href=\"#DejaVuSans-65\"/>\r\n       <use x=\"558.589844\" xlink:href=\"#DejaVuSans-61\"/>\r\n       <use x=\"619.869141\" xlink:href=\"#DejaVuSans-63\"/>\r\n       <use x=\"674.849609\" xlink:href=\"#DejaVuSans-68\"/>\r\n      </g>\r\n     </g>\r\n    </g>\r\n    <g id=\"xtick_6\">\r\n     <g id=\"line2d_11\">\r\n      <g>\r\n       <use style=\"stroke:#000000;stroke-width:0.8;\" x=\"332.011106\" xlink:href=\"#mae55c8556c\" y=\"359.481875\"/>\r\n      </g>\r\n     </g>\r\n     <g id=\"line2d_12\">\r\n      <g>\r\n       <use style=\"stroke:#000000;stroke-width:0.8;\" x=\"332.011106\" xlink:href=\"#m92040ca3ce\" y=\"180.921875\"/>\r\n      </g>\r\n     </g>\r\n     <g id=\"text_6\">\r\n      <!-- Location of Breached Information -->\r\n      <g transform=\"translate(334.770481 173.921875)rotate(-90)scale(0.1 -0.1)\">\r\n       <defs>\r\n        <path d=\"M 628 4666 \r\nL 1259 4666 \r\nL 1259 531 \r\nL 3531 531 \r\nL 3531 0 \r\nL 628 0 \r\nL 628 4666 \r\nz\r\n\" id=\"DejaVuSans-4c\" transform=\"scale(0.015625)\"/>\r\n       </defs>\r\n       <use xlink:href=\"#DejaVuSans-4c\"/>\r\n       <use x=\"53.962891\" xlink:href=\"#DejaVuSans-6f\"/>\r\n       <use x=\"115.144531\" xlink:href=\"#DejaVuSans-63\"/>\r\n       <use x=\"170.125\" xlink:href=\"#DejaVuSans-61\"/>\r\n       <use x=\"231.404297\" xlink:href=\"#DejaVuSans-74\"/>\r\n       <use x=\"270.613281\" xlink:href=\"#DejaVuSans-69\"/>\r\n       <use x=\"298.396484\" xlink:href=\"#DejaVuSans-6f\"/>\r\n       <use x=\"359.578125\" xlink:href=\"#DejaVuSans-6e\"/>\r\n       <use x=\"422.957031\" xlink:href=\"#DejaVuSans-20\"/>\r\n       <use x=\"454.744141\" xlink:href=\"#DejaVuSans-6f\"/>\r\n       <use x=\"515.925781\" xlink:href=\"#DejaVuSans-66\"/>\r\n       <use x=\"551.130859\" xlink:href=\"#DejaVuSans-20\"/>\r\n       <use x=\"582.917969\" xlink:href=\"#DejaVuSans-42\"/>\r\n       <use x=\"651.521484\" xlink:href=\"#DejaVuSans-72\"/>\r\n       <use x=\"690.384766\" xlink:href=\"#DejaVuSans-65\"/>\r\n       <use x=\"751.908203\" xlink:href=\"#DejaVuSans-61\"/>\r\n       <use x=\"813.1875\" xlink:href=\"#DejaVuSans-63\"/>\r\n       <use x=\"868.167969\" xlink:href=\"#DejaVuSans-68\"/>\r\n       <use x=\"931.546875\" xlink:href=\"#DejaVuSans-65\"/>\r\n       <use x=\"993.070312\" xlink:href=\"#DejaVuSans-64\"/>\r\n       <use x=\"1056.546875\" xlink:href=\"#DejaVuSans-20\"/>\r\n       <use x=\"1088.333984\" xlink:href=\"#DejaVuSans-49\"/>\r\n       <use x=\"1117.826172\" xlink:href=\"#DejaVuSans-6e\"/>\r\n       <use x=\"1181.205078\" xlink:href=\"#DejaVuSans-66\"/>\r\n       <use x=\"1216.410156\" xlink:href=\"#DejaVuSans-6f\"/>\r\n       <use x=\"1277.591797\" xlink:href=\"#DejaVuSans-72\"/>\r\n       <use x=\"1316.955078\" xlink:href=\"#DejaVuSans-6d\"/>\r\n       <use x=\"1414.367188\" xlink:href=\"#DejaVuSans-61\"/>\r\n       <use x=\"1475.646484\" xlink:href=\"#DejaVuSans-74\"/>\r\n       <use x=\"1514.855469\" xlink:href=\"#DejaVuSans-69\"/>\r\n       <use x=\"1542.638672\" xlink:href=\"#DejaVuSans-6f\"/>\r\n       <use x=\"1603.820312\" xlink:href=\"#DejaVuSans-6e\"/>\r\n      </g>\r\n     </g>\r\n    </g>\r\n    <g id=\"xtick_7\">\r\n     <g id=\"line2d_13\">\r\n      <g>\r\n       <use style=\"stroke:#000000;stroke-width:0.8;\" x=\"359.481875\" xlink:href=\"#mae55c8556c\" y=\"359.481875\"/>\r\n      </g>\r\n     </g>\r\n     <g id=\"line2d_14\">\r\n      <g>\r\n       <use style=\"stroke:#000000;stroke-width:0.8;\" x=\"359.481875\" xlink:href=\"#m92040ca3ce\" y=\"180.921875\"/>\r\n      </g>\r\n     </g>\r\n     <g id=\"text_7\">\r\n      <!-- Business Associate Present -->\r\n      <g transform=\"translate(362.24125 173.921875)rotate(-90)scale(0.1 -0.1)\">\r\n       <defs>\r\n        <path d=\"M 1259 4147 \r\nL 1259 2394 \r\nL 2053 2394 \r\nQ 2494 2394 2734 2622 \r\nQ 2975 2850 2975 3272 \r\nQ 2975 3691 2734 3919 \r\nQ 2494 4147 2053 4147 \r\nL 1259 4147 \r\nz\r\nM 628 4666 \r\nL 2053 4666 \r\nQ 2838 4666 3239 4311 \r\nQ 3641 3956 3641 3272 \r\nQ 3641 2581 3239 2228 \r\nQ 2838 1875 2053 1875 \r\nL 1259 1875 \r\nL 1259 0 \r\nL 628 0 \r\nL 628 4666 \r\nz\r\n\" id=\"DejaVuSans-50\" transform=\"scale(0.015625)\"/>\r\n       </defs>\r\n       <use xlink:href=\"#DejaVuSans-42\"/>\r\n       <use x=\"68.603516\" xlink:href=\"#DejaVuSans-75\"/>\r\n       <use x=\"131.982422\" xlink:href=\"#DejaVuSans-73\"/>\r\n       <use x=\"184.082031\" xlink:href=\"#DejaVuSans-69\"/>\r\n       <use x=\"211.865234\" xlink:href=\"#DejaVuSans-6e\"/>\r\n       <use x=\"275.244141\" xlink:href=\"#DejaVuSans-65\"/>\r\n       <use x=\"336.767578\" xlink:href=\"#DejaVuSans-73\"/>\r\n       <use x=\"388.867188\" xlink:href=\"#DejaVuSans-73\"/>\r\n       <use x=\"440.966797\" xlink:href=\"#DejaVuSans-20\"/>\r\n       <use x=\"472.753906\" xlink:href=\"#DejaVuSans-41\"/>\r\n       <use x=\"541.162109\" xlink:href=\"#DejaVuSans-73\"/>\r\n       <use x=\"593.261719\" xlink:href=\"#DejaVuSans-73\"/>\r\n       <use x=\"645.361328\" xlink:href=\"#DejaVuSans-6f\"/>\r\n       <use x=\"706.542969\" xlink:href=\"#DejaVuSans-63\"/>\r\n       <use x=\"761.523438\" xlink:href=\"#DejaVuSans-69\"/>\r\n       <use x=\"789.306641\" xlink:href=\"#DejaVuSans-61\"/>\r\n       <use x=\"850.585938\" xlink:href=\"#DejaVuSans-74\"/>\r\n       <use x=\"889.794922\" xlink:href=\"#DejaVuSans-65\"/>\r\n       <use x=\"951.318359\" xlink:href=\"#DejaVuSans-20\"/>\r\n       <use x=\"983.105469\" xlink:href=\"#DejaVuSans-50\"/>\r\n       <use x=\"1041.658203\" xlink:href=\"#DejaVuSans-72\"/>\r\n       <use x=\"1080.521484\" xlink:href=\"#DejaVuSans-65\"/>\r\n       <use x=\"1142.044922\" xlink:href=\"#DejaVuSans-73\"/>\r\n       <use x=\"1194.144531\" xlink:href=\"#DejaVuSans-65\"/>\r\n       <use x=\"1255.667969\" xlink:href=\"#DejaVuSans-6e\"/>\r\n       <use x=\"1319.046875\" xlink:href=\"#DejaVuSans-74\"/>\r\n      </g>\r\n     </g>\r\n    </g>\r\n   </g>\r\n   <g id=\"matplotlib.axis_2\">\r\n    <g id=\"ytick_1\">\r\n     <g id=\"line2d_15\">\r\n      <defs>\r\n       <path d=\"M 0 0 \r\nL -3.5 0 \r\n\" id=\"m9b62d27a3c\" style=\"stroke:#000000;stroke-width:0.8;\"/>\r\n      </defs>\r\n      <g>\r\n       <use style=\"stroke:#000000;stroke-width:0.8;\" x=\"180.921875\" xlink:href=\"#m9b62d27a3c\" y=\"194.65726\"/>\r\n      </g>\r\n     </g>\r\n     <g id=\"text_8\">\r\n      <!-- Name of Covered Entity -->\r\n      <g transform=\"translate(54.490625 198.456478)scale(0.1 -0.1)\">\r\n       <use xlink:href=\"#DejaVuSans-4e\"/>\r\n       <use x=\"74.804688\" xlink:href=\"#DejaVuSans-61\"/>\r\n       <use x=\"136.083984\" xlink:href=\"#DejaVuSans-6d\"/>\r\n       <use x=\"233.496094\" xlink:href=\"#DejaVuSans-65\"/>\r\n       <use x=\"295.019531\" xlink:href=\"#DejaVuSans-20\"/>\r\n       <use x=\"326.806641\" xlink:href=\"#DejaVuSans-6f\"/>\r\n       <use x=\"387.988281\" xlink:href=\"#DejaVuSans-66\"/>\r\n       <use x=\"423.193359\" xlink:href=\"#DejaVuSans-20\"/>\r\n       <use x=\"454.980469\" xlink:href=\"#DejaVuSans-43\"/>\r\n       <use x=\"524.804688\" xlink:href=\"#DejaVuSans-6f\"/>\r\n       <use x=\"585.986328\" xlink:href=\"#DejaVuSans-76\"/>\r\n       <use x=\"645.166016\" xlink:href=\"#DejaVuSans-65\"/>\r\n       <use x=\"706.689453\" xlink:href=\"#DejaVuSans-72\"/>\r\n       <use x=\"745.552734\" xlink:href=\"#DejaVuSans-65\"/>\r\n       <use x=\"807.076172\" xlink:href=\"#DejaVuSans-64\"/>\r\n       <use x=\"870.552734\" xlink:href=\"#DejaVuSans-20\"/>\r\n       <use x=\"902.339844\" xlink:href=\"#DejaVuSans-45\"/>\r\n       <use x=\"965.523438\" xlink:href=\"#DejaVuSans-6e\"/>\r\n       <use x=\"1028.902344\" xlink:href=\"#DejaVuSans-74\"/>\r\n       <use x=\"1068.111328\" xlink:href=\"#DejaVuSans-69\"/>\r\n       <use x=\"1095.894531\" xlink:href=\"#DejaVuSans-74\"/>\r\n       <use x=\"1135.103516\" xlink:href=\"#DejaVuSans-79\"/>\r\n      </g>\r\n     </g>\r\n    </g>\r\n    <g id=\"ytick_2\">\r\n     <g id=\"line2d_16\">\r\n      <g>\r\n       <use style=\"stroke:#000000;stroke-width:0.8;\" x=\"180.921875\" xlink:href=\"#m9b62d27a3c\" y=\"222.128029\"/>\r\n      </g>\r\n     </g>\r\n     <g id=\"text_9\">\r\n      <!-- State -->\r\n      <g transform=\"translate(147.451562 225.927248)scale(0.1 -0.1)\">\r\n       <use xlink:href=\"#DejaVuSans-53\"/>\r\n       <use x=\"63.476562\" xlink:href=\"#DejaVuSans-74\"/>\r\n       <use x=\"102.685547\" xlink:href=\"#DejaVuSans-61\"/>\r\n       <use x=\"163.964844\" xlink:href=\"#DejaVuSans-74\"/>\r\n       <use x=\"203.173828\" xlink:href=\"#DejaVuSans-65\"/>\r\n      </g>\r\n     </g>\r\n    </g>\r\n    <g id=\"ytick_3\">\r\n     <g id=\"line2d_17\">\r\n      <g>\r\n       <use style=\"stroke:#000000;stroke-width:0.8;\" x=\"180.921875\" xlink:href=\"#m9b62d27a3c\" y=\"249.598798\"/>\r\n      </g>\r\n     </g>\r\n     <g id=\"text_10\">\r\n      <!-- Covered Entity Type -->\r\n      <g transform=\"translate(73.845312 253.398017)scale(0.1 -0.1)\">\r\n       <use xlink:href=\"#DejaVuSans-43\"/>\r\n       <use x=\"69.824219\" xlink:href=\"#DejaVuSans-6f\"/>\r\n       <use x=\"131.005859\" xlink:href=\"#DejaVuSans-76\"/>\r\n       <use x=\"190.185547\" xlink:href=\"#DejaVuSans-65\"/>\r\n       <use x=\"251.708984\" xlink:href=\"#DejaVuSans-72\"/>\r\n       <use x=\"290.572266\" xlink:href=\"#DejaVuSans-65\"/>\r\n       <use x=\"352.095703\" xlink:href=\"#DejaVuSans-64\"/>\r\n       <use x=\"415.572266\" xlink:href=\"#DejaVuSans-20\"/>\r\n       <use x=\"447.359375\" xlink:href=\"#DejaVuSans-45\"/>\r\n       <use x=\"510.542969\" xlink:href=\"#DejaVuSans-6e\"/>\r\n       <use x=\"573.921875\" xlink:href=\"#DejaVuSans-74\"/>\r\n       <use x=\"613.130859\" xlink:href=\"#DejaVuSans-69\"/>\r\n       <use x=\"640.914062\" xlink:href=\"#DejaVuSans-74\"/>\r\n       <use x=\"680.123047\" xlink:href=\"#DejaVuSans-79\"/>\r\n       <use x=\"739.302734\" xlink:href=\"#DejaVuSans-20\"/>\r\n       <use x=\"771.089844\" xlink:href=\"#DejaVuSans-54\"/>\r\n       <use x=\"816.548828\" xlink:href=\"#DejaVuSans-79\"/>\r\n       <use x=\"875.728516\" xlink:href=\"#DejaVuSans-70\"/>\r\n       <use x=\"939.205078\" xlink:href=\"#DejaVuSans-65\"/>\r\n      </g>\r\n     </g>\r\n    </g>\r\n    <g id=\"ytick_4\">\r\n     <g id=\"line2d_18\">\r\n      <g>\r\n       <use style=\"stroke:#000000;stroke-width:0.8;\" x=\"180.921875\" xlink:href=\"#m9b62d27a3c\" y=\"277.069567\"/>\r\n      </g>\r\n     </g>\r\n     <g id=\"text_11\">\r\n      <!-- Individuals Affected -->\r\n      <g transform=\"translate(75.239062 280.868786)scale(0.1 -0.1)\">\r\n       <use xlink:href=\"#DejaVuSans-49\"/>\r\n       <use x=\"29.492188\" xlink:href=\"#DejaVuSans-6e\"/>\r\n       <use x=\"92.871094\" xlink:href=\"#DejaVuSans-64\"/>\r\n       <use x=\"156.347656\" xlink:href=\"#DejaVuSans-69\"/>\r\n       <use x=\"184.130859\" xlink:href=\"#DejaVuSans-76\"/>\r\n       <use x=\"243.310547\" xlink:href=\"#DejaVuSans-69\"/>\r\n       <use x=\"271.09375\" xlink:href=\"#DejaVuSans-64\"/>\r\n       <use x=\"334.570312\" xlink:href=\"#DejaVuSans-75\"/>\r\n       <use x=\"397.949219\" xlink:href=\"#DejaVuSans-61\"/>\r\n       <use x=\"459.228516\" xlink:href=\"#DejaVuSans-6c\"/>\r\n       <use x=\"487.011719\" xlink:href=\"#DejaVuSans-73\"/>\r\n       <use x=\"539.111328\" xlink:href=\"#DejaVuSans-20\"/>\r\n       <use x=\"570.898438\" xlink:href=\"#DejaVuSans-41\"/>\r\n       <use x=\"635.681641\" xlink:href=\"#DejaVuSans-66\"/>\r\n       <use x=\"670.886719\" xlink:href=\"#DejaVuSans-66\"/>\r\n       <use x=\"706.091797\" xlink:href=\"#DejaVuSans-65\"/>\r\n       <use x=\"767.615234\" xlink:href=\"#DejaVuSans-63\"/>\r\n       <use x=\"822.595703\" xlink:href=\"#DejaVuSans-74\"/>\r\n       <use x=\"861.804688\" xlink:href=\"#DejaVuSans-65\"/>\r\n       <use x=\"923.328125\" xlink:href=\"#DejaVuSans-64\"/>\r\n      </g>\r\n     </g>\r\n    </g>\r\n    <g id=\"ytick_5\">\r\n     <g id=\"line2d_19\">\r\n      <g>\r\n       <use style=\"stroke:#000000;stroke-width:0.8;\" x=\"180.921875\" xlink:href=\"#m9b62d27a3c\" y=\"304.540337\"/>\r\n      </g>\r\n     </g>\r\n     <g id=\"text_12\">\r\n      <!-- Type of Breach -->\r\n      <g transform=\"translate(100.096875 308.339555)scale(0.1 -0.1)\">\r\n       <use xlink:href=\"#DejaVuSans-54\"/>\r\n       <use x=\"45.458984\" xlink:href=\"#DejaVuSans-79\"/>\r\n       <use x=\"104.638672\" xlink:href=\"#DejaVuSans-70\"/>\r\n       <use x=\"168.115234\" xlink:href=\"#DejaVuSans-65\"/>\r\n       <use x=\"229.638672\" xlink:href=\"#DejaVuSans-20\"/>\r\n       <use x=\"261.425781\" xlink:href=\"#DejaVuSans-6f\"/>\r\n       <use x=\"322.607422\" xlink:href=\"#DejaVuSans-66\"/>\r\n       <use x=\"357.8125\" xlink:href=\"#DejaVuSans-20\"/>\r\n       <use x=\"389.599609\" xlink:href=\"#DejaVuSans-42\"/>\r\n       <use x=\"458.203125\" xlink:href=\"#DejaVuSans-72\"/>\r\n       <use x=\"497.066406\" xlink:href=\"#DejaVuSans-65\"/>\r\n       <use x=\"558.589844\" xlink:href=\"#DejaVuSans-61\"/>\r\n       <use x=\"619.869141\" xlink:href=\"#DejaVuSans-63\"/>\r\n       <use x=\"674.849609\" xlink:href=\"#DejaVuSans-68\"/>\r\n      </g>\r\n     </g>\r\n    </g>\r\n    <g id=\"ytick_6\">\r\n     <g id=\"line2d_20\">\r\n      <g>\r\n       <use style=\"stroke:#000000;stroke-width:0.8;\" x=\"180.921875\" xlink:href=\"#m9b62d27a3c\" y=\"332.011106\"/>\r\n      </g>\r\n     </g>\r\n     <g id=\"text_13\">\r\n      <!-- Location of Breached Information -->\r\n      <g transform=\"translate(7.2 335.810325)scale(0.1 -0.1)\">\r\n       <use xlink:href=\"#DejaVuSans-4c\"/>\r\n       <use x=\"53.962891\" xlink:href=\"#DejaVuSans-6f\"/>\r\n       <use x=\"115.144531\" xlink:href=\"#DejaVuSans-63\"/>\r\n       <use x=\"170.125\" xlink:href=\"#DejaVuSans-61\"/>\r\n       <use x=\"231.404297\" xlink:href=\"#DejaVuSans-74\"/>\r\n       <use x=\"270.613281\" xlink:href=\"#DejaVuSans-69\"/>\r\n       <use x=\"298.396484\" xlink:href=\"#DejaVuSans-6f\"/>\r\n       <use x=\"359.578125\" xlink:href=\"#DejaVuSans-6e\"/>\r\n       <use x=\"422.957031\" xlink:href=\"#DejaVuSans-20\"/>\r\n       <use x=\"454.744141\" xlink:href=\"#DejaVuSans-6f\"/>\r\n       <use x=\"515.925781\" xlink:href=\"#DejaVuSans-66\"/>\r\n       <use x=\"551.130859\" xlink:href=\"#DejaVuSans-20\"/>\r\n       <use x=\"582.917969\" xlink:href=\"#DejaVuSans-42\"/>\r\n       <use x=\"651.521484\" xlink:href=\"#DejaVuSans-72\"/>\r\n       <use x=\"690.384766\" xlink:href=\"#DejaVuSans-65\"/>\r\n       <use x=\"751.908203\" xlink:href=\"#DejaVuSans-61\"/>\r\n       <use x=\"813.1875\" xlink:href=\"#DejaVuSans-63\"/>\r\n       <use x=\"868.167969\" xlink:href=\"#DejaVuSans-68\"/>\r\n       <use x=\"931.546875\" xlink:href=\"#DejaVuSans-65\"/>\r\n       <use x=\"993.070312\" xlink:href=\"#DejaVuSans-64\"/>\r\n       <use x=\"1056.546875\" xlink:href=\"#DejaVuSans-20\"/>\r\n       <use x=\"1088.333984\" xlink:href=\"#DejaVuSans-49\"/>\r\n       <use x=\"1117.826172\" xlink:href=\"#DejaVuSans-6e\"/>\r\n       <use x=\"1181.205078\" xlink:href=\"#DejaVuSans-66\"/>\r\n       <use x=\"1216.410156\" xlink:href=\"#DejaVuSans-6f\"/>\r\n       <use x=\"1277.591797\" xlink:href=\"#DejaVuSans-72\"/>\r\n       <use x=\"1316.955078\" xlink:href=\"#DejaVuSans-6d\"/>\r\n       <use x=\"1414.367188\" xlink:href=\"#DejaVuSans-61\"/>\r\n       <use x=\"1475.646484\" xlink:href=\"#DejaVuSans-74\"/>\r\n       <use x=\"1514.855469\" xlink:href=\"#DejaVuSans-69\"/>\r\n       <use x=\"1542.638672\" xlink:href=\"#DejaVuSans-6f\"/>\r\n       <use x=\"1603.820312\" xlink:href=\"#DejaVuSans-6e\"/>\r\n      </g>\r\n     </g>\r\n    </g>\r\n    <g id=\"ytick_7\">\r\n     <g id=\"line2d_21\">\r\n      <g>\r\n       <use style=\"stroke:#000000;stroke-width:0.8;\" x=\"180.921875\" xlink:href=\"#m9b62d27a3c\" y=\"359.481875\"/>\r\n      </g>\r\n     </g>\r\n     <g id=\"text_14\">\r\n      <!-- Business Associate Present -->\r\n      <g transform=\"translate(38.1 363.281094)scale(0.1 -0.1)\">\r\n       <use xlink:href=\"#DejaVuSans-42\"/>\r\n       <use x=\"68.603516\" xlink:href=\"#DejaVuSans-75\"/>\r\n       <use x=\"131.982422\" xlink:href=\"#DejaVuSans-73\"/>\r\n       <use x=\"184.082031\" xlink:href=\"#DejaVuSans-69\"/>\r\n       <use x=\"211.865234\" xlink:href=\"#DejaVuSans-6e\"/>\r\n       <use x=\"275.244141\" xlink:href=\"#DejaVuSans-65\"/>\r\n       <use x=\"336.767578\" xlink:href=\"#DejaVuSans-73\"/>\r\n       <use x=\"388.867188\" xlink:href=\"#DejaVuSans-73\"/>\r\n       <use x=\"440.966797\" xlink:href=\"#DejaVuSans-20\"/>\r\n       <use x=\"472.753906\" xlink:href=\"#DejaVuSans-41\"/>\r\n       <use x=\"541.162109\" xlink:href=\"#DejaVuSans-73\"/>\r\n       <use x=\"593.261719\" xlink:href=\"#DejaVuSans-73\"/>\r\n       <use x=\"645.361328\" xlink:href=\"#DejaVuSans-6f\"/>\r\n       <use x=\"706.542969\" xlink:href=\"#DejaVuSans-63\"/>\r\n       <use x=\"761.523438\" xlink:href=\"#DejaVuSans-69\"/>\r\n       <use x=\"789.306641\" xlink:href=\"#DejaVuSans-61\"/>\r\n       <use x=\"850.585938\" xlink:href=\"#DejaVuSans-74\"/>\r\n       <use x=\"889.794922\" xlink:href=\"#DejaVuSans-65\"/>\r\n       <use x=\"951.318359\" xlink:href=\"#DejaVuSans-20\"/>\r\n       <use x=\"983.105469\" xlink:href=\"#DejaVuSans-50\"/>\r\n       <use x=\"1041.658203\" xlink:href=\"#DejaVuSans-72\"/>\r\n       <use x=\"1080.521484\" xlink:href=\"#DejaVuSans-65\"/>\r\n       <use x=\"1142.044922\" xlink:href=\"#DejaVuSans-73\"/>\r\n       <use x=\"1194.144531\" xlink:href=\"#DejaVuSans-65\"/>\r\n       <use x=\"1255.667969\" xlink:href=\"#DejaVuSans-6e\"/>\r\n       <use x=\"1319.046875\" xlink:href=\"#DejaVuSans-74\"/>\r\n      </g>\r\n     </g>\r\n    </g>\r\n   </g>\r\n   <g id=\"patch_3\">\r\n    <path d=\"M 180.921875 359.481875 \r\nL 180.921875 180.921875 \r\n\" style=\"fill:none;stroke:#000000;stroke-linecap:square;stroke-linejoin:miter;stroke-width:0.8;\"/>\r\n   </g>\r\n   <g id=\"patch_4\">\r\n    <path d=\"M 359.481875 359.481875 \r\nL 359.481875 180.921875 \r\n\" style=\"fill:none;stroke:#000000;stroke-linecap:square;stroke-linejoin:miter;stroke-width:0.8;\"/>\r\n   </g>\r\n   <g id=\"patch_5\">\r\n    <path d=\"M 180.921875 359.481875 \r\nL 359.481875 359.481875 \r\n\" style=\"fill:none;stroke:#000000;stroke-linecap:square;stroke-linejoin:miter;stroke-width:0.8;\"/>\r\n   </g>\r\n   <g id=\"patch_6\">\r\n    <path d=\"M 180.921875 180.921875 \r\nL 359.481875 180.921875 \r\n\" style=\"fill:none;stroke:#000000;stroke-linecap:square;stroke-linejoin:miter;stroke-width:0.8;\"/>\r\n   </g>\r\n  </g>\r\n  <g id=\"axes_2\">\r\n   <g id=\"patch_7\">\r\n    <path d=\"M 370.641875 381.801875 \r\nL 381.801875 381.801875 \r\nL 381.801875 158.601875 \r\nL 370.641875 158.601875 \r\nz\r\n\" style=\"fill:#ffffff;\"/>\r\n   </g>\r\n   <g id=\"patch_8\">\r\n    <path clip-path=\"url(#pb9f3fc8ada)\" d=\"M 370.641875 381.801875 \r\nL 370.641875 380.93 \r\nL 370.641875 159.47375 \r\nL 370.641875 158.601875 \r\nL 381.801875 158.601875 \r\nL 381.801875 159.47375 \r\nL 381.801875 380.93 \r\nL 381.801875 381.801875 \r\nL 381.801875 381.801875 \r\nz\r\n\" style=\"fill:#ffffff;stroke:#ffffff;stroke-linejoin:miter;stroke-width:0.01;\"/>\r\n   </g>\r\n   <image height=\"223\" id=\"imagec47a1e6b8e\" transform=\"scale(1 -1)translate(0 -223)\" width=\"11\" x=\"371\" xlink:href=\"data:image/png;base64,\r\niVBORw0KGgoAAAANSUhEUgAAAAsAAADfCAYAAAAgAykfAAAAsElEQVR4nO2YQQrAIAwEo/jWvqM/b68ezUJgI+N5GdYhNtAR7/PF4VnjNBkRayTSheTpUaMjGXUyGXV7OGej4QXvV5cKe3R2UdeQjDqZjLo93HIPetSYs4psMhtMnSEZdTK5pbqyGuxBmYw6mYw6mXy/urIa96u7fg96kFEnk1Enhws/Xx3VMXUqmT0ok1Enk13eoEmNDJmpk8mo28Mub7AhOfGb36azSQ2mTiajTiX/uZUG3BDHa5cAAAAASUVORK5CYII=\" y=\"-159\"/>\r\n   <g id=\"matplotlib.axis_3\"/>\r\n   <g id=\"matplotlib.axis_4\">\r\n    <g id=\"ytick_8\">\r\n     <g id=\"line2d_22\">\r\n      <defs>\r\n       <path d=\"M 0 0 \r\nL 3.5 0 \r\n\" id=\"m7aa1bdf9d7\" style=\"stroke:#000000;stroke-width:0.8;\"/>\r\n      </defs>\r\n      <g>\r\n       <use style=\"stroke:#000000;stroke-width:0.8;\" x=\"381.801875\" xlink:href=\"#m7aa1bdf9d7\" y=\"358.820527\"/>\r\n      </g>\r\n     </g>\r\n     <g id=\"text_15\">\r\n      <!-- 0.0 -->\r\n      <g transform=\"translate(388.801875 362.619746)scale(0.1 -0.1)\">\r\n       <defs>\r\n        <path d=\"M 2034 4250 \r\nQ 1547 4250 1301 3770 \r\nQ 1056 3291 1056 2328 \r\nQ 1056 1369 1301 889 \r\nQ 1547 409 2034 409 \r\nQ 2525 409 2770 889 \r\nQ 3016 1369 3016 2328 \r\nQ 3016 3291 2770 3770 \r\nQ 2525 4250 2034 4250 \r\nz\r\nM 2034 4750 \r\nQ 2819 4750 3233 4129 \r\nQ 3647 3509 3647 2328 \r\nQ 3647 1150 3233 529 \r\nQ 2819 -91 2034 -91 \r\nQ 1250 -91 836 529 \r\nQ 422 1150 422 2328 \r\nQ 422 3509 836 4129 \r\nQ 1250 4750 2034 4750 \r\nz\r\n\" id=\"DejaVuSans-30\" transform=\"scale(0.015625)\"/>\r\n        <path d=\"M 684 794 \r\nL 1344 794 \r\nL 1344 0 \r\nL 684 0 \r\nL 684 794 \r\nz\r\n\" id=\"DejaVuSans-2e\" transform=\"scale(0.015625)\"/>\r\n       </defs>\r\n       <use xlink:href=\"#DejaVuSans-30\"/>\r\n       <use x=\"63.623047\" xlink:href=\"#DejaVuSans-2e\"/>\r\n       <use x=\"95.410156\" xlink:href=\"#DejaVuSans-30\"/>\r\n      </g>\r\n     </g>\r\n    </g>\r\n    <g id=\"ytick_9\">\r\n     <g id=\"line2d_23\">\r\n      <g>\r\n       <use style=\"stroke:#000000;stroke-width:0.8;\" x=\"381.801875\" xlink:href=\"#m7aa1bdf9d7\" y=\"318.776797\"/>\r\n      </g>\r\n     </g>\r\n     <g id=\"text_16\">\r\n      <!-- 0.2 -->\r\n      <g transform=\"translate(388.801875 322.576015)scale(0.1 -0.1)\">\r\n       <defs>\r\n        <path d=\"M 1228 531 \r\nL 3431 531 \r\nL 3431 0 \r\nL 469 0 \r\nL 469 531 \r\nQ 828 903 1448 1529 \r\nQ 2069 2156 2228 2338 \r\nQ 2531 2678 2651 2914 \r\nQ 2772 3150 2772 3378 \r\nQ 2772 3750 2511 3984 \r\nQ 2250 4219 1831 4219 \r\nQ 1534 4219 1204 4116 \r\nQ 875 4013 500 3803 \r\nL 500 4441 \r\nQ 881 4594 1212 4672 \r\nQ 1544 4750 1819 4750 \r\nQ 2544 4750 2975 4387 \r\nQ 3406 4025 3406 3419 \r\nQ 3406 3131 3298 2873 \r\nQ 3191 2616 2906 2266 \r\nQ 2828 2175 2409 1742 \r\nQ 1991 1309 1228 531 \r\nz\r\n\" id=\"DejaVuSans-32\" transform=\"scale(0.015625)\"/>\r\n       </defs>\r\n       <use xlink:href=\"#DejaVuSans-30\"/>\r\n       <use x=\"63.623047\" xlink:href=\"#DejaVuSans-2e\"/>\r\n       <use x=\"95.410156\" xlink:href=\"#DejaVuSans-32\"/>\r\n      </g>\r\n     </g>\r\n    </g>\r\n    <g id=\"ytick_10\">\r\n     <g id=\"line2d_24\">\r\n      <g>\r\n       <use style=\"stroke:#000000;stroke-width:0.8;\" x=\"381.801875\" xlink:href=\"#m7aa1bdf9d7\" y=\"278.733066\"/>\r\n      </g>\r\n     </g>\r\n     <g id=\"text_17\">\r\n      <!-- 0.4 -->\r\n      <g transform=\"translate(388.801875 282.532285)scale(0.1 -0.1)\">\r\n       <defs>\r\n        <path d=\"M 2419 4116 \r\nL 825 1625 \r\nL 2419 1625 \r\nL 2419 4116 \r\nz\r\nM 2253 4666 \r\nL 3047 4666 \r\nL 3047 1625 \r\nL 3713 1625 \r\nL 3713 1100 \r\nL 3047 1100 \r\nL 3047 0 \r\nL 2419 0 \r\nL 2419 1100 \r\nL 313 1100 \r\nL 313 1709 \r\nL 2253 4666 \r\nz\r\n\" id=\"DejaVuSans-34\" transform=\"scale(0.015625)\"/>\r\n       </defs>\r\n       <use xlink:href=\"#DejaVuSans-30\"/>\r\n       <use x=\"63.623047\" xlink:href=\"#DejaVuSans-2e\"/>\r\n       <use x=\"95.410156\" xlink:href=\"#DejaVuSans-34\"/>\r\n      </g>\r\n     </g>\r\n    </g>\r\n    <g id=\"ytick_11\">\r\n     <g id=\"line2d_25\">\r\n      <g>\r\n       <use style=\"stroke:#000000;stroke-width:0.8;\" x=\"381.801875\" xlink:href=\"#m7aa1bdf9d7\" y=\"238.689336\"/>\r\n      </g>\r\n     </g>\r\n     <g id=\"text_18\">\r\n      <!-- 0.6 -->\r\n      <g transform=\"translate(388.801875 242.488555)scale(0.1 -0.1)\">\r\n       <defs>\r\n        <path d=\"M 2113 2584 \r\nQ 1688 2584 1439 2293 \r\nQ 1191 2003 1191 1497 \r\nQ 1191 994 1439 701 \r\nQ 1688 409 2113 409 \r\nQ 2538 409 2786 701 \r\nQ 3034 994 3034 1497 \r\nQ 3034 2003 2786 2293 \r\nQ 2538 2584 2113 2584 \r\nz\r\nM 3366 4563 \r\nL 3366 3988 \r\nQ 3128 4100 2886 4159 \r\nQ 2644 4219 2406 4219 \r\nQ 1781 4219 1451 3797 \r\nQ 1122 3375 1075 2522 \r\nQ 1259 2794 1537 2939 \r\nQ 1816 3084 2150 3084 \r\nQ 2853 3084 3261 2657 \r\nQ 3669 2231 3669 1497 \r\nQ 3669 778 3244 343 \r\nQ 2819 -91 2113 -91 \r\nQ 1303 -91 875 529 \r\nQ 447 1150 447 2328 \r\nQ 447 3434 972 4092 \r\nQ 1497 4750 2381 4750 \r\nQ 2619 4750 2861 4703 \r\nQ 3103 4656 3366 4563 \r\nz\r\n\" id=\"DejaVuSans-36\" transform=\"scale(0.015625)\"/>\r\n       </defs>\r\n       <use xlink:href=\"#DejaVuSans-30\"/>\r\n       <use x=\"63.623047\" xlink:href=\"#DejaVuSans-2e\"/>\r\n       <use x=\"95.410156\" xlink:href=\"#DejaVuSans-36\"/>\r\n      </g>\r\n     </g>\r\n    </g>\r\n    <g id=\"ytick_12\">\r\n     <g id=\"line2d_26\">\r\n      <g>\r\n       <use style=\"stroke:#000000;stroke-width:0.8;\" x=\"381.801875\" xlink:href=\"#m7aa1bdf9d7\" y=\"198.645605\"/>\r\n      </g>\r\n     </g>\r\n     <g id=\"text_19\">\r\n      <!-- 0.8 -->\r\n      <g transform=\"translate(388.801875 202.444824)scale(0.1 -0.1)\">\r\n       <defs>\r\n        <path d=\"M 2034 2216 \r\nQ 1584 2216 1326 1975 \r\nQ 1069 1734 1069 1313 \r\nQ 1069 891 1326 650 \r\nQ 1584 409 2034 409 \r\nQ 2484 409 2743 651 \r\nQ 3003 894 3003 1313 \r\nQ 3003 1734 2745 1975 \r\nQ 2488 2216 2034 2216 \r\nz\r\nM 1403 2484 \r\nQ 997 2584 770 2862 \r\nQ 544 3141 544 3541 \r\nQ 544 4100 942 4425 \r\nQ 1341 4750 2034 4750 \r\nQ 2731 4750 3128 4425 \r\nQ 3525 4100 3525 3541 \r\nQ 3525 3141 3298 2862 \r\nQ 3072 2584 2669 2484 \r\nQ 3125 2378 3379 2068 \r\nQ 3634 1759 3634 1313 \r\nQ 3634 634 3220 271 \r\nQ 2806 -91 2034 -91 \r\nQ 1263 -91 848 271 \r\nQ 434 634 434 1313 \r\nQ 434 1759 690 2068 \r\nQ 947 2378 1403 2484 \r\nz\r\nM 1172 3481 \r\nQ 1172 3119 1398 2916 \r\nQ 1625 2713 2034 2713 \r\nQ 2441 2713 2670 2916 \r\nQ 2900 3119 2900 3481 \r\nQ 2900 3844 2670 4047 \r\nQ 2441 4250 2034 4250 \r\nQ 1625 4250 1398 4047 \r\nQ 1172 3844 1172 3481 \r\nz\r\n\" id=\"DejaVuSans-38\" transform=\"scale(0.015625)\"/>\r\n       </defs>\r\n       <use xlink:href=\"#DejaVuSans-30\"/>\r\n       <use x=\"63.623047\" xlink:href=\"#DejaVuSans-2e\"/>\r\n       <use x=\"95.410156\" xlink:href=\"#DejaVuSans-38\"/>\r\n      </g>\r\n     </g>\r\n    </g>\r\n    <g id=\"ytick_13\">\r\n     <g id=\"line2d_27\">\r\n      <g>\r\n       <use style=\"stroke:#000000;stroke-width:0.8;\" x=\"381.801875\" xlink:href=\"#m7aa1bdf9d7\" y=\"158.601875\"/>\r\n      </g>\r\n     </g>\r\n     <g id=\"text_20\">\r\n      <!-- 1.0 -->\r\n      <g transform=\"translate(388.801875 162.401094)scale(0.1 -0.1)\">\r\n       <defs>\r\n        <path d=\"M 794 531 \r\nL 1825 531 \r\nL 1825 4091 \r\nL 703 3866 \r\nL 703 4441 \r\nL 1819 4666 \r\nL 2450 4666 \r\nL 2450 531 \r\nL 3481 531 \r\nL 3481 0 \r\nL 794 0 \r\nL 794 531 \r\nz\r\n\" id=\"DejaVuSans-31\" transform=\"scale(0.015625)\"/>\r\n       </defs>\r\n       <use xlink:href=\"#DejaVuSans-31\"/>\r\n       <use x=\"63.623047\" xlink:href=\"#DejaVuSans-2e\"/>\r\n       <use x=\"95.410156\" xlink:href=\"#DejaVuSans-30\"/>\r\n      </g>\r\n     </g>\r\n    </g>\r\n   </g>\r\n   <g id=\"LineCollection_1\"/>\r\n   <g id=\"patch_9\">\r\n    <path d=\"M 370.641875 381.801875 \r\nL 370.641875 380.93 \r\nL 370.641875 159.47375 \r\nL 370.641875 158.601875 \r\nL 381.801875 158.601875 \r\nL 381.801875 159.47375 \r\nL 381.801875 380.93 \r\nL 381.801875 381.801875 \r\nz\r\n\" style=\"fill:none;stroke:#000000;stroke-linecap:square;stroke-linejoin:miter;stroke-width:0.8;\"/>\r\n   </g>\r\n  </g>\r\n </g>\r\n <defs>\r\n  <clipPath id=\"pc289c1c85a\">\r\n   <rect height=\"178.56\" width=\"178.56\" x=\"180.921875\" y=\"180.921875\"/>\r\n  </clipPath>\r\n  <clipPath id=\"pb9f3fc8ada\">\r\n   <rect height=\"223.2\" width=\"11.16\" x=\"370.641875\" y=\"158.601875\"/>\r\n  </clipPath>\r\n </defs>\r\n</svg>\r\n",
      "image/png": "[encoded data removed]"
     },
     "metadata": {
      "needs_background": "light"
     }
    }
   ],
   "source": [
    "# matshow == matrix show\n",
    "plt.matshow(df.corr(), cmap=\"summer\")\n",
    "plt.colorbar()\n",
    "\n",
    "plt.xticks(list(range(len(df.columns))), df.columns, rotation='vertical')\n",
    "plt.yticks(list(range(len(df.columns))), df.columns, rotation='horizontal')\n",
    "# This is a simple correlation analysis -- I plan to grow into a larger set w/more data to see how all the attributes truly do correlate\n",
    "plt.show()"
   ]
  },
  {
   "cell_type": "code",
   "execution_count": 19,
   "metadata": {},
   "outputs": [],
   "source": [
    "df.to_csv(\"Datasets/Preprocessed-Datasets/preprocessed-HIPPA-Dataset.csv\", index=False)"
   ]
  }
 ]
}