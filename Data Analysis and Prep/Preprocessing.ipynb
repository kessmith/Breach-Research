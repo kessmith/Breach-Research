{
 "cells": [
  {
   "cell_type": "code",
   "execution_count": 29,
   "metadata": {},
   "outputs": [
    {
     "data": {
      "text/html": [
       "<div>\n",
       "<style scoped>\n",
       "    .dataframe tbody tr th:only-of-type {\n",
       "        vertical-align: middle;\n",
       "    }\n",
       "\n",
       "    .dataframe tbody tr th {\n",
       "        vertical-align: top;\n",
       "    }\n",
       "\n",
       "    .dataframe thead th {\n",
       "        text-align: right;\n",
       "    }\n",
       "</style>\n",
       "<table border=\"1\" class=\"dataframe\">\n",
       "  <thead>\n",
       "    <tr style=\"text-align: right;\">\n",
       "      <th></th>\n",
       "      <th>State</th>\n",
       "      <th>Cov_Ent_Type</th>\n",
       "      <th>Individuals_Affected</th>\n",
       "      <th>Type_of_Breach</th>\n",
       "      <th>Loc_of_Breached_Information</th>\n",
       "      <th>Business_Associate_Present</th>\n",
       "    </tr>\n",
       "  </thead>\n",
       "  <tbody>\n",
       "    <tr>\n",
       "      <th>0</th>\n",
       "      <td>CO</td>\n",
       "      <td>Healthcare Provider</td>\n",
       "      <td>26609.0</td>\n",
       "      <td>Hacking/IT Incident</td>\n",
       "      <td>Email</td>\n",
       "      <td>No</td>\n",
       "    </tr>\n",
       "    <tr>\n",
       "      <th>1</th>\n",
       "      <td>WI</td>\n",
       "      <td>Healthcare Provider</td>\n",
       "      <td>907.0</td>\n",
       "      <td>Unauthorized Access/Disclosure</td>\n",
       "      <td>Email</td>\n",
       "      <td>No</td>\n",
       "    </tr>\n",
       "    <tr>\n",
       "      <th>2</th>\n",
       "      <td>NH</td>\n",
       "      <td>Healthcare Provider</td>\n",
       "      <td>34878.0</td>\n",
       "      <td>Hacking/IT Incident</td>\n",
       "      <td>Network Server</td>\n",
       "      <td>No</td>\n",
       "    </tr>\n",
       "    <tr>\n",
       "      <th>3</th>\n",
       "      <td>CA</td>\n",
       "      <td>Healthcare Provider</td>\n",
       "      <td>500.0</td>\n",
       "      <td>Theft</td>\n",
       "      <td>Paper/Films</td>\n",
       "      <td>No</td>\n",
       "    </tr>\n",
       "    <tr>\n",
       "      <th>4</th>\n",
       "      <td>OH</td>\n",
       "      <td>Healthcare Provider</td>\n",
       "      <td>2716.0</td>\n",
       "      <td>Hacking/IT Incident</td>\n",
       "      <td>Laptop, Network Server</td>\n",
       "      <td>No</td>\n",
       "    </tr>\n",
       "  </tbody>\n",
       "</table>\n",
       "</div>"
      ],
      "text/plain": [
       "  State         Cov_Ent_Type  Individuals_Affected  \\\n",
       "0    CO  Healthcare Provider               26609.0   \n",
       "1    WI  Healthcare Provider                 907.0   \n",
       "2    NH  Healthcare Provider               34878.0   \n",
       "3    CA  Healthcare Provider                 500.0   \n",
       "4    OH  Healthcare Provider                2716.0   \n",
       "\n",
       "                   Type_of_Breach Loc_of_Breached_Information  \\\n",
       "0             Hacking/IT Incident                       Email   \n",
       "1  Unauthorized Access/Disclosure                       Email   \n",
       "2             Hacking/IT Incident              Network Server   \n",
       "3                           Theft                 Paper/Films   \n",
       "4             Hacking/IT Incident      Laptop, Network Server   \n",
       "\n",
       "  Business_Associate_Present  \n",
       "0                         No  \n",
       "1                         No  \n",
       "2                         No  \n",
       "3                         No  \n",
       "4                         No  "
      ]
     },
     "execution_count": 29,
     "metadata": {},
     "output_type": "execute_result"
    }
   ],
   "source": [
    "from sklearn.impute import SimpleImputer\n",
    "from sklearn.preprocessing import StandardScaler, LabelEncoder\n",
    "import pandas as pd\n",
    "from matplotlib import pyplot as plt\n",
    "%matplotlib inline\n",
    "from mlxtend.preprocessing import minmax_scaling\n",
    "import seaborn as sns\n",
    "import numpy as np\n",
    "import warnings\n",
    "warnings.filterwarnings('ignore')\n",
    "\n",
    "original_df = pd.read_csv('../Datasets/Combined_Dataset.csv')\n",
    "original_df.head()"
   ]
  },
  {
   "cell_type": "markdown",
   "metadata": {},
   "source": [
    "# Handling Null Values"
   ]
  },
  {
   "cell_type": "code",
   "execution_count": 30,
   "metadata": {},
   "outputs": [
    {
     "data": {
      "text/plain": [
       "State                            16\n",
       "Cov_Ent_Type                   1087\n",
       "Individuals_Affected             23\n",
       "Type_of_Breach                    9\n",
       "Loc_of_Breached_Information       6\n",
       "Business_Associate_Present        0\n",
       "dtype: int64"
      ]
     },
     "execution_count": 30,
     "metadata": {},
     "output_type": "execute_result"
    }
   ],
   "source": [
    "original_df.isnull().sum()\n",
    "# Null values for each feature but Business_Associate_Present"
   ]
  },
  {
   "cell_type": "code",
   "execution_count": 31,
   "metadata": {},
   "outputs": [
    {
     "data": {
      "text/plain": [
       "State                           object\n",
       "Cov_Ent_Type                    object\n",
       "Individuals_Affected           float64\n",
       "Type_of_Breach                  object\n",
       "Loc_of_Breached_Information     object\n",
       "Business_Associate_Present      object\n",
       "dtype: object"
      ]
     },
     "execution_count": 31,
     "metadata": {},
     "output_type": "execute_result"
    }
   ],
   "source": [
    "original_df.dtypes"
   ]
  },
  {
   "cell_type": "code",
   "execution_count": 32,
   "metadata": {},
   "outputs": [
    {
     "data": {
      "text/plain": [
       "0"
      ]
     },
     "execution_count": 32,
     "metadata": {},
     "output_type": "execute_result"
    }
   ],
   "source": [
    "imputer_state =  SimpleImputer(missing_values=np.nan, strategy='most_frequent')\n",
    "imputer_state = imputer_state.fit(original_df[['State']])\n",
    "original_df['State'] = imputer_state.transform(original_df[['State']])\n",
    "# Verify that all the missing values have been handled\n",
    "original_df['State'].isnull().sum()"
   ]
  },
  {
   "cell_type": "code",
   "execution_count": 33,
   "metadata": {},
   "outputs": [
    {
     "data": {
      "text/plain": [
       "0"
      ]
     },
     "execution_count": 33,
     "metadata": {},
     "output_type": "execute_result"
    }
   ],
   "source": [
    "imputer_covered_entity = SimpleImputer(missing_values=np.nan, strategy='most_frequent')\n",
    "imputer_covered_entity = imputer_covered_entity.fit(original_df[['Cov_Ent_Type']])\n",
    "original_df['Cov_Ent_Type'] = imputer_covered_entity.transform(original_df[['Cov_Ent_Type']])\n",
    "# Verifying that data for covered entity has been imputed\n",
    "original_df['Cov_Ent_Type'].isnull().sum()"
   ]
  },
  {
   "cell_type": "code",
   "execution_count": 34,
   "metadata": {},
   "outputs": [
    {
     "data": {
      "text/plain": [
       "0"
      ]
     },
     "execution_count": 34,
     "metadata": {},
     "output_type": "execute_result"
    }
   ],
   "source": [
    "imputer_individuals_affected = SimpleImputer(missing_values=np.nan, strategy='mean')\n",
    "original_df['Individuals_Affected'] = imputer_individuals_affected.fit_transform(original_df[['Individuals_Affected']])\n",
    "# For Verification purposes only\n",
    "original_df['Individuals_Affected'].isnull().sum()"
   ]
  },
  {
   "cell_type": "code",
   "execution_count": 35,
   "metadata": {},
   "outputs": [
    {
     "data": {
      "text/plain": [
       "0"
      ]
     },
     "execution_count": 35,
     "metadata": {},
     "output_type": "execute_result"
    }
   ],
   "source": [
    "imputer_type_of_breach = SimpleImputer(missing_values=np.nan, strategy='most_frequent')\n",
    "original_df['Type_of_Breach'] = imputer_type_of_breach.fit_transform(original_df[['Type_of_Breach']])\n",
    "# Verifying that all missing values have been imputed\n",
    "original_df['Type_of_Breach'].isnull().sum()"
   ]
  },
  {
   "cell_type": "code",
   "execution_count": 36,
   "metadata": {},
   "outputs": [
    {
     "data": {
      "text/plain": [
       "0"
      ]
     },
     "execution_count": 36,
     "metadata": {},
     "output_type": "execute_result"
    }
   ],
   "source": [
    "imputer_location_of_breached_info = SimpleImputer(missing_values=np.nan, strategy='most_frequent')\n",
    "original_df['Loc_of_Breached_Information'] = imputer_location_of_breached_info.fit_transform(original_df[['Loc_of_Breached_Information']])\n",
    "# Verifying that the Feature Location of Breached Information has no null values\n",
    "original_df['Loc_of_Breached_Information'].isnull().sum()"
   ]
  },
  {
   "cell_type": "code",
   "execution_count": 37,
   "metadata": {},
   "outputs": [
    {
     "data": {
      "text/plain": [
       "State                          0\n",
       "Cov_Ent_Type                   0\n",
       "Individuals_Affected           0\n",
       "Type_of_Breach                 0\n",
       "Loc_of_Breached_Information    0\n",
       "Business_Associate_Present     0\n",
       "dtype: int64"
      ]
     },
     "execution_count": 37,
     "metadata": {},
     "output_type": "execute_result"
    }
   ],
   "source": [
    "original_df.isnull().sum()"
   ]
  },
  {
   "cell_type": "markdown",
   "metadata": {},
   "source": [
    "# Standardizing the Numercial Columns\n",
    "- The below code is focusing on standardizing the Individuals_Affected Feature such that the mean of the values is 0 and the standard deviation is 1.\n",
    "- This will add our model when we look to input these Features into the SVM Model for hypothesis testing and evaluation."
   ]
  },
  {
   "cell_type": "code",
   "execution_count": 38,
   "metadata": {},
   "outputs": [],
   "source": [
    "std = StandardScaler()\n",
    "X = std.fit_transform(original_df[['Individuals_Affected']])"
   ]
  },
  {
   "cell_type": "markdown",
   "metadata": {},
   "source": [
    "## Handling Categorial Variables\n",
    "- All features within this dataset are considered to be `nominal categorical variables` since they are not based upon a distinct order."
   ]
  },
  {
   "cell_type": "code",
   "execution_count": 39,
   "metadata": {},
   "outputs": [],
   "source": [
    "original_df = pd.get_dummies(original_df[['State', 'Cov_Ent_Type', 'Type_of_Breach', 'Loc_of_Breached_Information', 'Business_Associate_Present']], drop_first=True)"
   ]
  },
  {
   "cell_type": "code",
   "execution_count": 40,
   "metadata": {},
   "outputs": [
    {
     "data": {
      "text/plain": [
       "State_AL                                          uint8\n",
       "State_AR                                          uint8\n",
       "State_AZ                                          uint8\n",
       "State_CA                                          uint8\n",
       "State_CO                                          uint8\n",
       "                                                  ...  \n",
       "Loc_of_Breached_Information_Other, Paper          uint8\n",
       "Loc_of_Breached_Information_Other, Paper/Films    uint8\n",
       "Loc_of_Breached_Information_Paper                 uint8\n",
       "Loc_of_Breached_Information_Paper/Films           uint8\n",
       "Business_Associate_Present_Yes                    uint8\n",
       "Length: 191, dtype: object"
      ]
     },
     "execution_count": 40,
     "metadata": {},
     "output_type": "execute_result"
    }
   ],
   "source": [
    "original_df.dtypes"
   ]
  },
  {
   "cell_type": "code",
   "execution_count": null,
   "metadata": {},
   "outputs": [],
   "source": []
  }
 ],
 "metadata": {
  "interpreter": {
   "hash": "369f2c481f4da34e4445cda3fffd2e751bd1c4d706f27375911949ba6bb62e1c"
  },
  "kernelspec": {
   "display_name": "Python 3.10.1 64-bit",
   "language": "python",
   "name": "python3"
  },
  "language_info": {
   "codemirror_mode": {
    "name": "ipython",
    "version": 3
   },
   "file_extension": ".py",
   "mimetype": "text/x-python",
   "name": "python",
   "nbconvert_exporter": "python",
   "pygments_lexer": "ipython3",
   "version": "3.10.1"
  },
  "orig_nbformat": 4
 },
 "nbformat": 4,
 "nbformat_minor": 2
}
